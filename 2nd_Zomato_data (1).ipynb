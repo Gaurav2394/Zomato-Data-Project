{
 "cells": [
  {
   "cell_type": "code",
   "execution_count": 1,
   "metadata": {
    "id": "l-Xz2djIoKwp"
   },
   "outputs": [],
   "source": [
    "import pandas as pd"
   ]
  },
  {
   "cell_type": "markdown",
   "metadata": {
    "id": "KdVrYkE0MFao"
   },
   "source": [
    "## Read EXCEL File\n",
    "\n"
   ]
  },
  {
   "cell_type": "code",
   "execution_count": 2,
   "metadata": {
    "id": "F_lJ0e7fpAqR",
    "scrolled": true
   },
   "outputs": [],
   "source": [
    "data_baner = pd.read_excel('data/Baner_cleaned.xlsx')\n",
    "data_bavdhan = pd.read_excel('data/Bavdhan_cleaned.xlsx')\n",
    "data_hinjawadi = pd.read_excel('data/Hinjawadi_cleaned.xlsx')\n",
    "data_wakad = pd.read_excel('data/Wakad_cleaned.xlsx')"
   ]
  },
  {
   "cell_type": "markdown",
   "metadata": {
    "id": "ClrkEIh8MMgz"
   },
   "source": [
    "## Add \"Locality\" column"
   ]
  },
  {
   "cell_type": "code",
   "execution_count": 3,
   "metadata": {
    "id": "9-DrVxf2plnh"
   },
   "outputs": [],
   "source": [
    "\n",
    "data_baner['locality'] = 'Baner'\n",
    "data_bavdhan['locality'] = 'Bavdhan'\n",
    "data_hinjawadi['locality'] = 'Hinjawadi'\n",
    "data_wakad['locality'] = 'wakad'"
   ]
  },
  {
   "cell_type": "markdown",
   "metadata": {
    "id": "3WuipaxftHyH"
   },
   "source": [
    "## Replace column Name\n"
   ]
  },
  {
   "cell_type": "code",
   "execution_count": 4,
   "metadata": {
    "id": "yxtho0S1qm3U"
   },
   "outputs": [],
   "source": [
    "\n",
    "data_bavdhan.rename(columns={'price_for_1':'price_for_one', 'Title':'Name'}, inplace= True)"
   ]
  },
  {
   "cell_type": "code",
   "execution_count": 5,
   "metadata": {
    "id": "PnNzsXb3uUA6"
   },
   "outputs": [
    {
     "data": {
      "text/html": [
       "<div>\n",
       "<style scoped>\n",
       "    .dataframe tbody tr th:only-of-type {\n",
       "        vertical-align: middle;\n",
       "    }\n",
       "\n",
       "    .dataframe tbody tr th {\n",
       "        vertical-align: top;\n",
       "    }\n",
       "\n",
       "    .dataframe thead th {\n",
       "        text-align: right;\n",
       "    }\n",
       "</style>\n",
       "<table border=\"1\" class=\"dataframe\">\n",
       "  <thead>\n",
       "    <tr style=\"text-align: right;\">\n",
       "      <th></th>\n",
       "      <th>Name</th>\n",
       "      <th>off</th>\n",
       "      <th>ratings</th>\n",
       "      <th>price_for_one</th>\n",
       "      <th>delivery_reviews</th>\n",
       "      <th>cuisine</th>\n",
       "      <th>locality</th>\n",
       "    </tr>\n",
       "  </thead>\n",
       "  <tbody>\n",
       "    <tr>\n",
       "      <th>0</th>\n",
       "      <td>Domino's Pizza</td>\n",
       "      <td>Pro extra 15% OFF</td>\n",
       "      <td>4.2</td>\n",
       "      <td>₹150 for one\\n30 min</td>\n",
       "      <td>(6,291 Delivery Reviews)</td>\n",
       "      <td>Pizza, Fast Food, Desserts, Beverages</td>\n",
       "      <td>Bavdhan</td>\n",
       "    </tr>\n",
       "    <tr>\n",
       "      <th>1</th>\n",
       "      <td>Kinara's Maratha Darbar</td>\n",
       "      <td>50% OFF</td>\n",
       "      <td>3.9</td>\n",
       "      <td>₹250 for one\\n29 min</td>\n",
       "      <td>(1,507 Delivery Reviews)</td>\n",
       "      <td>Maharashtrian, Chinese, North Indian, Biryani</td>\n",
       "      <td>Bavdhan</td>\n",
       "    </tr>\n",
       "    <tr>\n",
       "      <th>2</th>\n",
       "      <td>Palavi</td>\n",
       "      <td>Pro extra 15% OFF</td>\n",
       "      <td>4.1</td>\n",
       "      <td>₹150 for one\\n46 min</td>\n",
       "      <td>(8,144 Delivery Reviews)</td>\n",
       "      <td>Chinese, Fast Food, North Indian, South Indian...</td>\n",
       "      <td>Bavdhan</td>\n",
       "    </tr>\n",
       "    <tr>\n",
       "      <th>3</th>\n",
       "      <td>Giridhar</td>\n",
       "      <td>Pro extra 15% OFF</td>\n",
       "      <td>4.1</td>\n",
       "      <td>₹100 for one\\n36 min</td>\n",
       "      <td>(11.1K Delivery Reviews)</td>\n",
       "      <td>North Indian, South Indian, Maharashtrian</td>\n",
       "      <td>Bavdhan</td>\n",
       "    </tr>\n",
       "    <tr>\n",
       "      <th>4</th>\n",
       "      <td>Sujata Mastani</td>\n",
       "      <td>Pro extra 10% OFF</td>\n",
       "      <td>4.2</td>\n",
       "      <td>₹100 for one\\n30 min</td>\n",
       "      <td>(132 Delivery Reviews)</td>\n",
       "      <td>Beverages, Desserts, Ice Cream</td>\n",
       "      <td>Bavdhan</td>\n",
       "    </tr>\n",
       "  </tbody>\n",
       "</table>\n",
       "</div>"
      ],
      "text/plain": [
       "                      Name                off  ratings         price_for_one  \\\n",
       "0           Domino's Pizza  Pro extra 15% OFF      4.2  ₹150 for one\\n30 min   \n",
       "1  Kinara's Maratha Darbar            50% OFF      3.9  ₹250 for one\\n29 min   \n",
       "2                   Palavi  Pro extra 15% OFF      4.1  ₹150 for one\\n46 min   \n",
       "3                 Giridhar  Pro extra 15% OFF      4.1  ₹100 for one\\n36 min   \n",
       "4           Sujata Mastani  Pro extra 10% OFF      4.2  ₹100 for one\\n30 min   \n",
       "\n",
       "           delivery_reviews  \\\n",
       "0  (6,291 Delivery Reviews)   \n",
       "1  (1,507 Delivery Reviews)   \n",
       "2  (8,144 Delivery Reviews)   \n",
       "3  (11.1K Delivery Reviews)   \n",
       "4    (132 Delivery Reviews)   \n",
       "\n",
       "                                             cuisine locality  \n",
       "0              Pizza, Fast Food, Desserts, Beverages  Bavdhan  \n",
       "1      Maharashtrian, Chinese, North Indian, Biryani  Bavdhan  \n",
       "2  Chinese, Fast Food, North Indian, South Indian...  Bavdhan  \n",
       "3          North Indian, South Indian, Maharashtrian  Bavdhan  \n",
       "4                     Beverages, Desserts, Ice Cream  Bavdhan  "
      ]
     },
     "execution_count": 5,
     "metadata": {},
     "output_type": "execute_result"
    }
   ],
   "source": [
    "data_bavdhan.head()"
   ]
  },
  {
   "cell_type": "code",
   "execution_count": 6,
   "metadata": {
    "id": "F_klRECmtvWn"
   },
   "outputs": [
    {
     "data": {
      "text/html": [
       "<div>\n",
       "<style scoped>\n",
       "    .dataframe tbody tr th:only-of-type {\n",
       "        vertical-align: middle;\n",
       "    }\n",
       "\n",
       "    .dataframe tbody tr th {\n",
       "        vertical-align: top;\n",
       "    }\n",
       "\n",
       "    .dataframe thead th {\n",
       "        text-align: right;\n",
       "    }\n",
       "</style>\n",
       "<table border=\"1\" class=\"dataframe\">\n",
       "  <thead>\n",
       "    <tr style=\"text-align: right;\">\n",
       "      <th></th>\n",
       "      <th>Name</th>\n",
       "      <th>off</th>\n",
       "      <th>ratings</th>\n",
       "      <th>price_for_one</th>\n",
       "      <th>delivery_reviews</th>\n",
       "      <th>cuisine</th>\n",
       "      <th>locality</th>\n",
       "    </tr>\n",
       "  </thead>\n",
       "  <tbody>\n",
       "    <tr>\n",
       "      <th>0</th>\n",
       "      <td>Rohit Wadewale</td>\n",
       "      <td>Pro extra 15% OFF</td>\n",
       "      <td>3.8</td>\n",
       "      <td>₹150 for one\\n18 min</td>\n",
       "      <td>(8,680 Delivery Reviews)</td>\n",
       "      <td>Maharashtrian, Street Food, South Indian, Sand...</td>\n",
       "      <td>Hinjawadi</td>\n",
       "    </tr>\n",
       "    <tr>\n",
       "      <th>1</th>\n",
       "      <td>KFC</td>\n",
       "      <td>50% OFF</td>\n",
       "      <td>4.1</td>\n",
       "      <td>₹150 for one\\n30 min</td>\n",
       "      <td>(8,463 Delivery Reviews)</td>\n",
       "      <td>Burger, Fast Food, Beverages</td>\n",
       "      <td>Hinjawadi</td>\n",
       "    </tr>\n",
       "    <tr>\n",
       "      <th>2</th>\n",
       "      <td>Biryani by KG</td>\n",
       "      <td>Pro extra 15% OFF</td>\n",
       "      <td>3.6</td>\n",
       "      <td>₹200 for one\\n30 min</td>\n",
       "      <td>(15.8K Delivery Reviews)</td>\n",
       "      <td>Biryani, Chinese, North Indian</td>\n",
       "      <td>Hinjawadi</td>\n",
       "    </tr>\n",
       "    <tr>\n",
       "      <th>3</th>\n",
       "      <td>Reddy's Biryani Zone</td>\n",
       "      <td>50% OFF</td>\n",
       "      <td>4.0</td>\n",
       "      <td>₹150 for one\\n30 min</td>\n",
       "      <td>(8,859 Delivery Reviews)</td>\n",
       "      <td>North Indian, Seafood, Mughlai, Kebab, Chinese...</td>\n",
       "      <td>Hinjawadi</td>\n",
       "    </tr>\n",
       "    <tr>\n",
       "      <th>4</th>\n",
       "      <td>Tamil Nadu Restaurant</td>\n",
       "      <td>50% OFF</td>\n",
       "      <td>3.9</td>\n",
       "      <td>₹100 for one\\n36 min</td>\n",
       "      <td>(3,218 Delivery Reviews)</td>\n",
       "      <td>South Indian</td>\n",
       "      <td>Hinjawadi</td>\n",
       "    </tr>\n",
       "  </tbody>\n",
       "</table>\n",
       "</div>"
      ],
      "text/plain": [
       "                    Name                off  ratings         price_for_one  \\\n",
       "0         Rohit Wadewale  Pro extra 15% OFF      3.8  ₹150 for one\\n18 min   \n",
       "1                    KFC            50% OFF      4.1  ₹150 for one\\n30 min   \n",
       "2          Biryani by KG  Pro extra 15% OFF      3.6  ₹200 for one\\n30 min   \n",
       "3   Reddy's Biryani Zone            50% OFF      4.0  ₹150 for one\\n30 min   \n",
       "4  Tamil Nadu Restaurant            50% OFF      3.9  ₹100 for one\\n36 min   \n",
       "\n",
       "           delivery_reviews  \\\n",
       "0  (8,680 Delivery Reviews)   \n",
       "1  (8,463 Delivery Reviews)   \n",
       "2  (15.8K Delivery Reviews)   \n",
       "3  (8,859 Delivery Reviews)   \n",
       "4  (3,218 Delivery Reviews)   \n",
       "\n",
       "                                             cuisine   locality  \n",
       "0  Maharashtrian, Street Food, South Indian, Sand...  Hinjawadi  \n",
       "1                       Burger, Fast Food, Beverages  Hinjawadi  \n",
       "2                     Biryani, Chinese, North Indian  Hinjawadi  \n",
       "3  North Indian, Seafood, Mughlai, Kebab, Chinese...  Hinjawadi  \n",
       "4                                       South Indian  Hinjawadi  "
      ]
     },
     "execution_count": 6,
     "metadata": {},
     "output_type": "execute_result"
    }
   ],
   "source": [
    "data_hinjawadi.head()"
   ]
  },
  {
   "cell_type": "markdown",
   "metadata": {
    "id": "T8frqt15MaFw"
   },
   "source": [
    "## Information about all Excel file"
   ]
  },
  {
   "cell_type": "code",
   "execution_count": 7,
   "metadata": {
    "colab": {
     "base_uri": "https://localhost:8080/"
    },
    "id": "a95i5iU11NZz",
    "outputId": "b51cdbc0-a0a9-43f5-9ab9-db9a0080c43d"
   },
   "outputs": [
    {
     "name": "stdout",
     "output_type": "stream",
     "text": [
      "<class 'pandas.core.frame.DataFrame'>\n",
      "RangeIndex: 1137 entries, 0 to 1136\n",
      "Data columns (total 7 columns):\n",
      " #   Column            Non-Null Count  Dtype  \n",
      "---  ------            --------------  -----  \n",
      " 0   Name              1137 non-null   object \n",
      " 1   off               968 non-null    object \n",
      " 2   ratings           851 non-null    float64\n",
      " 3   price_for_one     1137 non-null   object \n",
      " 4   delivery_reviews  1010 non-null   object \n",
      " 5   cuisine           1137 non-null   object \n",
      " 6   locality          1137 non-null   object \n",
      "dtypes: float64(1), object(6)\n",
      "memory usage: 62.3+ KB\n",
      "<class 'pandas.core.frame.DataFrame'>\n",
      "RangeIndex: 834 entries, 0 to 833\n",
      "Data columns (total 7 columns):\n",
      " #   Column            Non-Null Count  Dtype  \n",
      "---  ------            --------------  -----  \n",
      " 0   Name              834 non-null    object \n",
      " 1   off               701 non-null    object \n",
      " 2   ratings           617 non-null    float64\n",
      " 3   price_for_one     556 non-null    object \n",
      " 4   delivery_reviews  751 non-null    object \n",
      " 5   cuisine           834 non-null    object \n",
      " 6   locality          834 non-null    object \n",
      "dtypes: float64(1), object(6)\n",
      "memory usage: 45.7+ KB\n",
      "<class 'pandas.core.frame.DataFrame'>\n",
      "RangeIndex: 960 entries, 0 to 959\n",
      "Data columns (total 7 columns):\n",
      " #   Column            Non-Null Count  Dtype  \n",
      "---  ------            --------------  -----  \n",
      " 0   Name              960 non-null    object \n",
      " 1   off               582 non-null    object \n",
      " 2   ratings           710 non-null    float64\n",
      " 3   price_for_one     960 non-null    object \n",
      " 4   delivery_reviews  867 non-null    object \n",
      " 5   cuisine           960 non-null    object \n",
      " 6   locality          960 non-null    object \n",
      "dtypes: float64(1), object(6)\n",
      "memory usage: 52.6+ KB\n",
      "<class 'pandas.core.frame.DataFrame'>\n",
      "RangeIndex: 1118 entries, 0 to 1117\n",
      "Data columns (total 6 columns):\n",
      " #   Column            Non-Null Count  Dtype  \n",
      "---  ------            --------------  -----  \n",
      " 0   Name              1118 non-null   object \n",
      " 1   off               810 non-null    object \n",
      " 2   ratings           781 non-null    float64\n",
      " 3   price_for_one     1117 non-null   object \n",
      " 4   delivery_reviews  970 non-null    object \n",
      " 5   locality          1118 non-null   object \n",
      "dtypes: float64(1), object(5)\n",
      "memory usage: 52.5+ KB\n"
     ]
    }
   ],
   "source": [
    "data_baner.info()\n",
    "data_bavdhan.info()\n",
    "data_hinjawadi.info()\n",
    "data_wakad.info()"
   ]
  },
  {
   "cell_type": "markdown",
   "metadata": {
    "id": "GUJRdvcaMeve"
   },
   "source": [
    "## Combine all 4 Excel files\n"
   ]
  },
  {
   "cell_type": "code",
   "execution_count": 8,
   "metadata": {
    "id": "GgZfRX1AqsHs"
   },
   "outputs": [],
   "source": [
    "df = pd.concat([data_baner, data_bavdhan, data_hinjawadi, data_wakad])"
   ]
  },
  {
   "cell_type": "code",
   "execution_count": 9,
   "metadata": {
    "colab": {
     "base_uri": "https://localhost:8080/",
     "height": 521
    },
    "id": "LX1NajNxrTCv",
    "outputId": "7e71b47b-c058-483c-a598-5b5a1825d4d8"
   },
   "outputs": [
    {
     "data": {
      "text/html": [
       "<div>\n",
       "<style scoped>\n",
       "    .dataframe tbody tr th:only-of-type {\n",
       "        vertical-align: middle;\n",
       "    }\n",
       "\n",
       "    .dataframe tbody tr th {\n",
       "        vertical-align: top;\n",
       "    }\n",
       "\n",
       "    .dataframe thead th {\n",
       "        text-align: right;\n",
       "    }\n",
       "</style>\n",
       "<table border=\"1\" class=\"dataframe\">\n",
       "  <thead>\n",
       "    <tr style=\"text-align: right;\">\n",
       "      <th></th>\n",
       "      <th>Name</th>\n",
       "      <th>off</th>\n",
       "      <th>ratings</th>\n",
       "      <th>price_for_one</th>\n",
       "      <th>delivery_reviews</th>\n",
       "      <th>cuisine</th>\n",
       "      <th>locality</th>\n",
       "    </tr>\n",
       "  </thead>\n",
       "  <tbody>\n",
       "    <tr>\n",
       "      <th>0</th>\n",
       "      <td>McDonald's</td>\n",
       "      <td>₹50 OFF</td>\n",
       "      <td>4.1</td>\n",
       "      <td>₹150 for one\\n30 min</td>\n",
       "      <td>(9,810 Delivery Reviews)</td>\n",
       "      <td>Burger, Fast Food, Beverages</td>\n",
       "      <td>Baner</td>\n",
       "    </tr>\n",
       "    <tr>\n",
       "      <th>1</th>\n",
       "      <td>Nawab Asia</td>\n",
       "      <td>₹50 OFF</td>\n",
       "      <td>4.1</td>\n",
       "      <td>₹350 for one\\n30 min</td>\n",
       "      <td>(3,054 Delivery Reviews)</td>\n",
       "      <td>North Indian, Chinese, Mughlai, Biryani, Desse...</td>\n",
       "      <td>Baner</td>\n",
       "    </tr>\n",
       "    <tr>\n",
       "      <th>2</th>\n",
       "      <td>Mithas</td>\n",
       "      <td>₹50 OFF</td>\n",
       "      <td>4.3</td>\n",
       "      <td>₹100 for one\\n29 min</td>\n",
       "      <td>(2,262 Delivery Reviews)</td>\n",
       "      <td>Mithai, Street Food</td>\n",
       "      <td>Baner</td>\n",
       "    </tr>\n",
       "    <tr>\n",
       "      <th>3</th>\n",
       "      <td>Anna Idli</td>\n",
       "      <td>₹50 OFF</td>\n",
       "      <td>4.2</td>\n",
       "      <td>₹100 for one\\n30 min</td>\n",
       "      <td>(21.8K Delivery Reviews)</td>\n",
       "      <td>South Indian, Beverages</td>\n",
       "      <td>Baner</td>\n",
       "    </tr>\n",
       "    <tr>\n",
       "      <th>4</th>\n",
       "      <td>Dadu's Sweet Emporio</td>\n",
       "      <td>₹50 OFF</td>\n",
       "      <td>4.3</td>\n",
       "      <td>₹150 for one\\n21 min</td>\n",
       "      <td>(4,504 Delivery Reviews)</td>\n",
       "      <td>Mithai, Street Food, Ice Cream</td>\n",
       "      <td>Baner</td>\n",
       "    </tr>\n",
       "    <tr>\n",
       "      <th>5</th>\n",
       "      <td>7th Heaven</td>\n",
       "      <td>Pro extra 15% OFF</td>\n",
       "      <td>4.2</td>\n",
       "      <td>₹350 for one\\n25 min</td>\n",
       "      <td>(3,342 Delivery Reviews)</td>\n",
       "      <td>Bakery, Desserts</td>\n",
       "      <td>Baner</td>\n",
       "    </tr>\n",
       "    <tr>\n",
       "      <th>6</th>\n",
       "      <td>Faasos</td>\n",
       "      <td>Pro extra 10% OFF</td>\n",
       "      <td>4.1</td>\n",
       "      <td>₹200 for one\\n29 min</td>\n",
       "      <td>(9,822 Delivery Reviews)</td>\n",
       "      <td>Wraps, North Indian, Biryani, Healthy Food</td>\n",
       "      <td>Baner</td>\n",
       "    </tr>\n",
       "    <tr>\n",
       "      <th>7</th>\n",
       "      <td>Pizza Hut</td>\n",
       "      <td>₹50 OFF</td>\n",
       "      <td>3.6</td>\n",
       "      <td>₹200 for one\\n34 min</td>\n",
       "      <td>(3,283 Delivery Reviews)</td>\n",
       "      <td>Pizza, Fast Food, Italian, Beverages</td>\n",
       "      <td>Baner</td>\n",
       "    </tr>\n",
       "    <tr>\n",
       "      <th>8</th>\n",
       "      <td>Ovenstory Pizza</td>\n",
       "      <td>Pro extra 10% OFF</td>\n",
       "      <td>4.3</td>\n",
       "      <td>₹300 for one\\n30 min</td>\n",
       "      <td>(3,864 Delivery Reviews)</td>\n",
       "      <td>Pizza, Italian</td>\n",
       "      <td>Baner</td>\n",
       "    </tr>\n",
       "    <tr>\n",
       "      <th>9</th>\n",
       "      <td>Wadeshwar</td>\n",
       "      <td>₹50 OFF</td>\n",
       "      <td>4.2</td>\n",
       "      <td>₹100 for one\\n30 min</td>\n",
       "      <td>(1,157 Delivery Reviews)</td>\n",
       "      <td>South Indian, Sandwich, Fast Food, Maharashtri...</td>\n",
       "      <td>Baner</td>\n",
       "    </tr>\n",
       "  </tbody>\n",
       "</table>\n",
       "</div>"
      ],
      "text/plain": [
       "                   Name                off  ratings         price_for_one  \\\n",
       "0            McDonald's            ₹50 OFF      4.1  ₹150 for one\\n30 min   \n",
       "1            Nawab Asia            ₹50 OFF      4.1  ₹350 for one\\n30 min   \n",
       "2                Mithas            ₹50 OFF      4.3  ₹100 for one\\n29 min   \n",
       "3             Anna Idli            ₹50 OFF      4.2  ₹100 for one\\n30 min   \n",
       "4  Dadu's Sweet Emporio            ₹50 OFF      4.3  ₹150 for one\\n21 min   \n",
       "5            7th Heaven  Pro extra 15% OFF      4.2  ₹350 for one\\n25 min   \n",
       "6                Faasos  Pro extra 10% OFF      4.1  ₹200 for one\\n29 min   \n",
       "7             Pizza Hut            ₹50 OFF      3.6  ₹200 for one\\n34 min   \n",
       "8       Ovenstory Pizza  Pro extra 10% OFF      4.3  ₹300 for one\\n30 min   \n",
       "9             Wadeshwar            ₹50 OFF      4.2  ₹100 for one\\n30 min   \n",
       "\n",
       "           delivery_reviews  \\\n",
       "0  (9,810 Delivery Reviews)   \n",
       "1  (3,054 Delivery Reviews)   \n",
       "2  (2,262 Delivery Reviews)   \n",
       "3  (21.8K Delivery Reviews)   \n",
       "4  (4,504 Delivery Reviews)   \n",
       "5  (3,342 Delivery Reviews)   \n",
       "6  (9,822 Delivery Reviews)   \n",
       "7  (3,283 Delivery Reviews)   \n",
       "8  (3,864 Delivery Reviews)   \n",
       "9  (1,157 Delivery Reviews)   \n",
       "\n",
       "                                             cuisine locality  \n",
       "0                       Burger, Fast Food, Beverages    Baner  \n",
       "1  North Indian, Chinese, Mughlai, Biryani, Desse...    Baner  \n",
       "2                                Mithai, Street Food    Baner  \n",
       "3                            South Indian, Beverages    Baner  \n",
       "4                     Mithai, Street Food, Ice Cream    Baner  \n",
       "5                                   Bakery, Desserts    Baner  \n",
       "6         Wraps, North Indian, Biryani, Healthy Food    Baner  \n",
       "7               Pizza, Fast Food, Italian, Beverages    Baner  \n",
       "8                                     Pizza, Italian    Baner  \n",
       "9  South Indian, Sandwich, Fast Food, Maharashtri...    Baner  "
      ]
     },
     "execution_count": 9,
     "metadata": {},
     "output_type": "execute_result"
    }
   ],
   "source": [
    "df.head(10)"
   ]
  },
  {
   "cell_type": "code",
   "execution_count": 10,
   "metadata": {
    "colab": {
     "base_uri": "https://localhost:8080/"
    },
    "id": "4_pGyaXvrz5w",
    "outputId": "c8f4e82b-b3b2-4cf3-c3a6-fb596497db63"
   },
   "outputs": [
    {
     "data": {
      "text/plain": [
       "Name                   0\n",
       "off                  988\n",
       "ratings             1090\n",
       "price_for_one        279\n",
       "delivery_reviews     451\n",
       "cuisine             1118\n",
       "locality               0\n",
       "dtype: int64"
      ]
     },
     "execution_count": 10,
     "metadata": {},
     "output_type": "execute_result"
    }
   ],
   "source": [
    "df.isnull().sum()"
   ]
  },
  {
   "cell_type": "markdown",
   "metadata": {
    "id": "q2mpDu17MkyY"
   },
   "source": [
    "## Drop Null vbalue from 'rating' column\n"
   ]
  },
  {
   "cell_type": "code",
   "execution_count": 11,
   "metadata": {
    "colab": {
     "base_uri": "https://localhost:8080/",
     "height": 580
    },
    "id": "y5AsPC5Nv5Or",
    "outputId": "acf1c565-c55f-4f8e-a0cb-cd941198e42d"
   },
   "outputs": [
    {
     "data": {
      "text/html": [
       "<div>\n",
       "<style scoped>\n",
       "    .dataframe tbody tr th:only-of-type {\n",
       "        vertical-align: middle;\n",
       "    }\n",
       "\n",
       "    .dataframe tbody tr th {\n",
       "        vertical-align: top;\n",
       "    }\n",
       "\n",
       "    .dataframe thead th {\n",
       "        text-align: right;\n",
       "    }\n",
       "</style>\n",
       "<table border=\"1\" class=\"dataframe\">\n",
       "  <thead>\n",
       "    <tr style=\"text-align: right;\">\n",
       "      <th></th>\n",
       "      <th>Name</th>\n",
       "      <th>off</th>\n",
       "      <th>ratings</th>\n",
       "      <th>price_for_one</th>\n",
       "      <th>delivery_reviews</th>\n",
       "      <th>cuisine</th>\n",
       "      <th>locality</th>\n",
       "    </tr>\n",
       "  </thead>\n",
       "  <tbody>\n",
       "    <tr>\n",
       "      <th>0</th>\n",
       "      <td>McDonald's</td>\n",
       "      <td>₹50 OFF</td>\n",
       "      <td>4.1</td>\n",
       "      <td>₹150 for one\\n30 min</td>\n",
       "      <td>(9,810 Delivery Reviews)</td>\n",
       "      <td>Burger, Fast Food, Beverages</td>\n",
       "      <td>Baner</td>\n",
       "    </tr>\n",
       "    <tr>\n",
       "      <th>1</th>\n",
       "      <td>Nawab Asia</td>\n",
       "      <td>₹50 OFF</td>\n",
       "      <td>4.1</td>\n",
       "      <td>₹350 for one\\n30 min</td>\n",
       "      <td>(3,054 Delivery Reviews)</td>\n",
       "      <td>North Indian, Chinese, Mughlai, Biryani, Desse...</td>\n",
       "      <td>Baner</td>\n",
       "    </tr>\n",
       "    <tr>\n",
       "      <th>2</th>\n",
       "      <td>Mithas</td>\n",
       "      <td>₹50 OFF</td>\n",
       "      <td>4.3</td>\n",
       "      <td>₹100 for one\\n29 min</td>\n",
       "      <td>(2,262 Delivery Reviews)</td>\n",
       "      <td>Mithai, Street Food</td>\n",
       "      <td>Baner</td>\n",
       "    </tr>\n",
       "    <tr>\n",
       "      <th>3</th>\n",
       "      <td>Anna Idli</td>\n",
       "      <td>₹50 OFF</td>\n",
       "      <td>4.2</td>\n",
       "      <td>₹100 for one\\n30 min</td>\n",
       "      <td>(21.8K Delivery Reviews)</td>\n",
       "      <td>South Indian, Beverages</td>\n",
       "      <td>Baner</td>\n",
       "    </tr>\n",
       "    <tr>\n",
       "      <th>4</th>\n",
       "      <td>Dadu's Sweet Emporio</td>\n",
       "      <td>₹50 OFF</td>\n",
       "      <td>4.3</td>\n",
       "      <td>₹150 for one\\n21 min</td>\n",
       "      <td>(4,504 Delivery Reviews)</td>\n",
       "      <td>Mithai, Street Food, Ice Cream</td>\n",
       "      <td>Baner</td>\n",
       "    </tr>\n",
       "    <tr>\n",
       "      <th>...</th>\n",
       "      <td>...</td>\n",
       "      <td>...</td>\n",
       "      <td>...</td>\n",
       "      <td>...</td>\n",
       "      <td>...</td>\n",
       "      <td>...</td>\n",
       "      <td>...</td>\n",
       "    </tr>\n",
       "    <tr>\n",
       "      <th>1104</th>\n",
       "      <td>Sambar House</td>\n",
       "      <td>50% OFF</td>\n",
       "      <td>3.7</td>\n",
       "      <td>₹50 for one</td>\n",
       "      <td>(129 Delivery Reviews)</td>\n",
       "      <td>NaN</td>\n",
       "      <td>wakad</td>\n",
       "    </tr>\n",
       "    <tr>\n",
       "      <th>1107</th>\n",
       "      <td>Food Express MH 14</td>\n",
       "      <td>50% OFF</td>\n",
       "      <td>3.8</td>\n",
       "      <td>₹200 for one</td>\n",
       "      <td>(333 Delivery Reviews)</td>\n",
       "      <td>NaN</td>\n",
       "      <td>wakad</td>\n",
       "    </tr>\n",
       "    <tr>\n",
       "      <th>1108</th>\n",
       "      <td>SnackEat</td>\n",
       "      <td>50% OFF</td>\n",
       "      <td>3.5</td>\n",
       "      <td>₹100 for one</td>\n",
       "      <td>(140 Delivery Reviews)</td>\n",
       "      <td>NaN</td>\n",
       "      <td>wakad</td>\n",
       "    </tr>\n",
       "    <tr>\n",
       "      <th>1109</th>\n",
       "      <td>Suyog Misal House</td>\n",
       "      <td>50% OFF</td>\n",
       "      <td>3.8</td>\n",
       "      <td>₹300 for one</td>\n",
       "      <td>(33 Delivery Reviews)</td>\n",
       "      <td>NaN</td>\n",
       "      <td>wakad</td>\n",
       "    </tr>\n",
       "    <tr>\n",
       "      <th>1112</th>\n",
       "      <td>Chinese Food Court</td>\n",
       "      <td>NaN</td>\n",
       "      <td>3.6</td>\n",
       "      <td>₹300 for one</td>\n",
       "      <td>(21 Delivery Reviews)</td>\n",
       "      <td>NaN</td>\n",
       "      <td>wakad</td>\n",
       "    </tr>\n",
       "  </tbody>\n",
       "</table>\n",
       "<p>2959 rows × 7 columns</p>\n",
       "</div>"
      ],
      "text/plain": [
       "                      Name      off  ratings         price_for_one  \\\n",
       "0               McDonald's  ₹50 OFF      4.1  ₹150 for one\\n30 min   \n",
       "1               Nawab Asia  ₹50 OFF      4.1  ₹350 for one\\n30 min   \n",
       "2                   Mithas  ₹50 OFF      4.3  ₹100 for one\\n29 min   \n",
       "3                Anna Idli  ₹50 OFF      4.2  ₹100 for one\\n30 min   \n",
       "4     Dadu's Sweet Emporio  ₹50 OFF      4.3  ₹150 for one\\n21 min   \n",
       "...                    ...      ...      ...                   ...   \n",
       "1104          Sambar House  50% OFF      3.7           ₹50 for one   \n",
       "1107    Food Express MH 14  50% OFF      3.8          ₹200 for one   \n",
       "1108              SnackEat  50% OFF      3.5          ₹100 for one   \n",
       "1109     Suyog Misal House  50% OFF      3.8          ₹300 for one   \n",
       "1112    Chinese Food Court      NaN      3.6          ₹300 for one   \n",
       "\n",
       "              delivery_reviews  \\\n",
       "0     (9,810 Delivery Reviews)   \n",
       "1     (3,054 Delivery Reviews)   \n",
       "2     (2,262 Delivery Reviews)   \n",
       "3     (21.8K Delivery Reviews)   \n",
       "4     (4,504 Delivery Reviews)   \n",
       "...                        ...   \n",
       "1104    (129 Delivery Reviews)   \n",
       "1107    (333 Delivery Reviews)   \n",
       "1108    (140 Delivery Reviews)   \n",
       "1109     (33 Delivery Reviews)   \n",
       "1112     (21 Delivery Reviews)   \n",
       "\n",
       "                                                cuisine locality  \n",
       "0                          Burger, Fast Food, Beverages    Baner  \n",
       "1     North Indian, Chinese, Mughlai, Biryani, Desse...    Baner  \n",
       "2                                   Mithai, Street Food    Baner  \n",
       "3                               South Indian, Beverages    Baner  \n",
       "4                        Mithai, Street Food, Ice Cream    Baner  \n",
       "...                                                 ...      ...  \n",
       "1104                                                NaN    wakad  \n",
       "1107                                                NaN    wakad  \n",
       "1108                                                NaN    wakad  \n",
       "1109                                                NaN    wakad  \n",
       "1112                                                NaN    wakad  \n",
       "\n",
       "[2959 rows x 7 columns]"
      ]
     },
     "execution_count": 11,
     "metadata": {},
     "output_type": "execute_result"
    }
   ],
   "source": [
    "data_rat = df.dropna(subset=['ratings'])\n",
    "data_rat"
   ]
  },
  {
   "cell_type": "markdown",
   "metadata": {
    "id": "C4v8CW83MoAh"
   },
   "source": [
    "## Adjust index"
   ]
  },
  {
   "cell_type": "code",
   "execution_count": 12,
   "metadata": {
    "colab": {
     "base_uri": "https://localhost:8080/",
     "height": 580
    },
    "id": "kCbEkJqz2x6t",
    "outputId": "d58cb18c-8aa4-40c7-c0e7-f65ffc26a8ad"
   },
   "outputs": [
    {
     "data": {
      "text/html": [
       "<div>\n",
       "<style scoped>\n",
       "    .dataframe tbody tr th:only-of-type {\n",
       "        vertical-align: middle;\n",
       "    }\n",
       "\n",
       "    .dataframe tbody tr th {\n",
       "        vertical-align: top;\n",
       "    }\n",
       "\n",
       "    .dataframe thead th {\n",
       "        text-align: right;\n",
       "    }\n",
       "</style>\n",
       "<table border=\"1\" class=\"dataframe\">\n",
       "  <thead>\n",
       "    <tr style=\"text-align: right;\">\n",
       "      <th></th>\n",
       "      <th>Name</th>\n",
       "      <th>off</th>\n",
       "      <th>ratings</th>\n",
       "      <th>price_for_one</th>\n",
       "      <th>delivery_reviews</th>\n",
       "      <th>cuisine</th>\n",
       "      <th>locality</th>\n",
       "    </tr>\n",
       "  </thead>\n",
       "  <tbody>\n",
       "    <tr>\n",
       "      <th>0</th>\n",
       "      <td>McDonald's</td>\n",
       "      <td>₹50 OFF</td>\n",
       "      <td>4.1</td>\n",
       "      <td>₹150 for one\\n30 min</td>\n",
       "      <td>(9,810 Delivery Reviews)</td>\n",
       "      <td>Burger, Fast Food, Beverages</td>\n",
       "      <td>Baner</td>\n",
       "    </tr>\n",
       "    <tr>\n",
       "      <th>1</th>\n",
       "      <td>Nawab Asia</td>\n",
       "      <td>₹50 OFF</td>\n",
       "      <td>4.1</td>\n",
       "      <td>₹350 for one\\n30 min</td>\n",
       "      <td>(3,054 Delivery Reviews)</td>\n",
       "      <td>North Indian, Chinese, Mughlai, Biryani, Desse...</td>\n",
       "      <td>Baner</td>\n",
       "    </tr>\n",
       "    <tr>\n",
       "      <th>2</th>\n",
       "      <td>Mithas</td>\n",
       "      <td>₹50 OFF</td>\n",
       "      <td>4.3</td>\n",
       "      <td>₹100 for one\\n29 min</td>\n",
       "      <td>(2,262 Delivery Reviews)</td>\n",
       "      <td>Mithai, Street Food</td>\n",
       "      <td>Baner</td>\n",
       "    </tr>\n",
       "    <tr>\n",
       "      <th>3</th>\n",
       "      <td>Anna Idli</td>\n",
       "      <td>₹50 OFF</td>\n",
       "      <td>4.2</td>\n",
       "      <td>₹100 for one\\n30 min</td>\n",
       "      <td>(21.8K Delivery Reviews)</td>\n",
       "      <td>South Indian, Beverages</td>\n",
       "      <td>Baner</td>\n",
       "    </tr>\n",
       "    <tr>\n",
       "      <th>4</th>\n",
       "      <td>Dadu's Sweet Emporio</td>\n",
       "      <td>₹50 OFF</td>\n",
       "      <td>4.3</td>\n",
       "      <td>₹150 for one\\n21 min</td>\n",
       "      <td>(4,504 Delivery Reviews)</td>\n",
       "      <td>Mithai, Street Food, Ice Cream</td>\n",
       "      <td>Baner</td>\n",
       "    </tr>\n",
       "    <tr>\n",
       "      <th>...</th>\n",
       "      <td>...</td>\n",
       "      <td>...</td>\n",
       "      <td>...</td>\n",
       "      <td>...</td>\n",
       "      <td>...</td>\n",
       "      <td>...</td>\n",
       "      <td>...</td>\n",
       "    </tr>\n",
       "    <tr>\n",
       "      <th>2954</th>\n",
       "      <td>Sambar House</td>\n",
       "      <td>50% OFF</td>\n",
       "      <td>3.7</td>\n",
       "      <td>₹50 for one</td>\n",
       "      <td>(129 Delivery Reviews)</td>\n",
       "      <td>NaN</td>\n",
       "      <td>wakad</td>\n",
       "    </tr>\n",
       "    <tr>\n",
       "      <th>2955</th>\n",
       "      <td>Food Express MH 14</td>\n",
       "      <td>50% OFF</td>\n",
       "      <td>3.8</td>\n",
       "      <td>₹200 for one</td>\n",
       "      <td>(333 Delivery Reviews)</td>\n",
       "      <td>NaN</td>\n",
       "      <td>wakad</td>\n",
       "    </tr>\n",
       "    <tr>\n",
       "      <th>2956</th>\n",
       "      <td>SnackEat</td>\n",
       "      <td>50% OFF</td>\n",
       "      <td>3.5</td>\n",
       "      <td>₹100 for one</td>\n",
       "      <td>(140 Delivery Reviews)</td>\n",
       "      <td>NaN</td>\n",
       "      <td>wakad</td>\n",
       "    </tr>\n",
       "    <tr>\n",
       "      <th>2957</th>\n",
       "      <td>Suyog Misal House</td>\n",
       "      <td>50% OFF</td>\n",
       "      <td>3.8</td>\n",
       "      <td>₹300 for one</td>\n",
       "      <td>(33 Delivery Reviews)</td>\n",
       "      <td>NaN</td>\n",
       "      <td>wakad</td>\n",
       "    </tr>\n",
       "    <tr>\n",
       "      <th>2958</th>\n",
       "      <td>Chinese Food Court</td>\n",
       "      <td>NaN</td>\n",
       "      <td>3.6</td>\n",
       "      <td>₹300 for one</td>\n",
       "      <td>(21 Delivery Reviews)</td>\n",
       "      <td>NaN</td>\n",
       "      <td>wakad</td>\n",
       "    </tr>\n",
       "  </tbody>\n",
       "</table>\n",
       "<p>2959 rows × 7 columns</p>\n",
       "</div>"
      ],
      "text/plain": [
       "                      Name      off  ratings         price_for_one  \\\n",
       "0               McDonald's  ₹50 OFF      4.1  ₹150 for one\\n30 min   \n",
       "1               Nawab Asia  ₹50 OFF      4.1  ₹350 for one\\n30 min   \n",
       "2                   Mithas  ₹50 OFF      4.3  ₹100 for one\\n29 min   \n",
       "3                Anna Idli  ₹50 OFF      4.2  ₹100 for one\\n30 min   \n",
       "4     Dadu's Sweet Emporio  ₹50 OFF      4.3  ₹150 for one\\n21 min   \n",
       "...                    ...      ...      ...                   ...   \n",
       "2954          Sambar House  50% OFF      3.7           ₹50 for one   \n",
       "2955    Food Express MH 14  50% OFF      3.8          ₹200 for one   \n",
       "2956              SnackEat  50% OFF      3.5          ₹100 for one   \n",
       "2957     Suyog Misal House  50% OFF      3.8          ₹300 for one   \n",
       "2958    Chinese Food Court      NaN      3.6          ₹300 for one   \n",
       "\n",
       "              delivery_reviews  \\\n",
       "0     (9,810 Delivery Reviews)   \n",
       "1     (3,054 Delivery Reviews)   \n",
       "2     (2,262 Delivery Reviews)   \n",
       "3     (21.8K Delivery Reviews)   \n",
       "4     (4,504 Delivery Reviews)   \n",
       "...                        ...   \n",
       "2954    (129 Delivery Reviews)   \n",
       "2955    (333 Delivery Reviews)   \n",
       "2956    (140 Delivery Reviews)   \n",
       "2957     (33 Delivery Reviews)   \n",
       "2958     (21 Delivery Reviews)   \n",
       "\n",
       "                                                cuisine locality  \n",
       "0                          Burger, Fast Food, Beverages    Baner  \n",
       "1     North Indian, Chinese, Mughlai, Biryani, Desse...    Baner  \n",
       "2                                   Mithai, Street Food    Baner  \n",
       "3                               South Indian, Beverages    Baner  \n",
       "4                        Mithai, Street Food, Ice Cream    Baner  \n",
       "...                                                 ...      ...  \n",
       "2954                                                NaN    wakad  \n",
       "2955                                                NaN    wakad  \n",
       "2956                                                NaN    wakad  \n",
       "2957                                                NaN    wakad  \n",
       "2958                                                NaN    wakad  \n",
       "\n",
       "[2959 rows x 7 columns]"
      ]
     },
     "execution_count": 12,
     "metadata": {},
     "output_type": "execute_result"
    }
   ],
   "source": [
    " \n",
    "data_rat.reset_index(inplace=True, drop=True)\n",
    "data_rat\n"
   ]
  },
  {
   "cell_type": "code",
   "execution_count": 13,
   "metadata": {
    "id": "WY3n2sDn0gXM"
   },
   "outputs": [],
   "source": [
    "import numpy as np \n",
    "import seaborn as sns \n",
    "import matplotlib.pyplot as plt"
   ]
  },
  {
   "cell_type": "code",
   "execution_count": 14,
   "metadata": {
    "colab": {
     "base_uri": "https://localhost:8080/",
     "height": 580
    },
    "id": "Wkgmf8Vnhct8",
    "outputId": "270fb6fd-e4da-402a-eb76-50361b589b57"
   },
   "outputs": [
    {
     "data": {
      "text/html": [
       "<div>\n",
       "<style scoped>\n",
       "    .dataframe tbody tr th:only-of-type {\n",
       "        vertical-align: middle;\n",
       "    }\n",
       "\n",
       "    .dataframe tbody tr th {\n",
       "        vertical-align: top;\n",
       "    }\n",
       "\n",
       "    .dataframe thead th {\n",
       "        text-align: right;\n",
       "    }\n",
       "</style>\n",
       "<table border=\"1\" class=\"dataframe\">\n",
       "  <thead>\n",
       "    <tr style=\"text-align: right;\">\n",
       "      <th></th>\n",
       "      <th>Name</th>\n",
       "      <th>off</th>\n",
       "      <th>ratings</th>\n",
       "      <th>price_for_one</th>\n",
       "      <th>delivery_reviews</th>\n",
       "      <th>cuisine</th>\n",
       "      <th>locality</th>\n",
       "    </tr>\n",
       "  </thead>\n",
       "  <tbody>\n",
       "    <tr>\n",
       "      <th>0</th>\n",
       "      <td>McDonald's</td>\n",
       "      <td>₹50 OFF</td>\n",
       "      <td>4.1</td>\n",
       "      <td>₹150 for one\\n30 min</td>\n",
       "      <td>(9,810 Delivery Reviews)</td>\n",
       "      <td>Burger, Fast Food, Beverages</td>\n",
       "      <td>Baner</td>\n",
       "    </tr>\n",
       "    <tr>\n",
       "      <th>1</th>\n",
       "      <td>Nawab Asia</td>\n",
       "      <td>₹50 OFF</td>\n",
       "      <td>4.1</td>\n",
       "      <td>₹350 for one\\n30 min</td>\n",
       "      <td>(3,054 Delivery Reviews)</td>\n",
       "      <td>North Indian, Chinese, Mughlai, Biryani, Desse...</td>\n",
       "      <td>Baner</td>\n",
       "    </tr>\n",
       "    <tr>\n",
       "      <th>2</th>\n",
       "      <td>Mithas</td>\n",
       "      <td>₹50 OFF</td>\n",
       "      <td>4.3</td>\n",
       "      <td>₹100 for one\\n29 min</td>\n",
       "      <td>(2,262 Delivery Reviews)</td>\n",
       "      <td>Mithai, Street Food</td>\n",
       "      <td>Baner</td>\n",
       "    </tr>\n",
       "    <tr>\n",
       "      <th>3</th>\n",
       "      <td>Anna Idli</td>\n",
       "      <td>₹50 OFF</td>\n",
       "      <td>4.2</td>\n",
       "      <td>₹100 for one\\n30 min</td>\n",
       "      <td>(21.8K Delivery Reviews)</td>\n",
       "      <td>South Indian, Beverages</td>\n",
       "      <td>Baner</td>\n",
       "    </tr>\n",
       "    <tr>\n",
       "      <th>4</th>\n",
       "      <td>Dadu's Sweet Emporio</td>\n",
       "      <td>₹50 OFF</td>\n",
       "      <td>4.3</td>\n",
       "      <td>₹150 for one\\n21 min</td>\n",
       "      <td>(4,504 Delivery Reviews)</td>\n",
       "      <td>Mithai, Street Food, Ice Cream</td>\n",
       "      <td>Baner</td>\n",
       "    </tr>\n",
       "    <tr>\n",
       "      <th>...</th>\n",
       "      <td>...</td>\n",
       "      <td>...</td>\n",
       "      <td>...</td>\n",
       "      <td>...</td>\n",
       "      <td>...</td>\n",
       "      <td>...</td>\n",
       "      <td>...</td>\n",
       "    </tr>\n",
       "    <tr>\n",
       "      <th>846</th>\n",
       "      <td>Happy Da Punjab</td>\n",
       "      <td>50% OFF</td>\n",
       "      <td>3.7</td>\n",
       "      <td>₹150 for one</td>\n",
       "      <td>(69 Delivery Reviews)</td>\n",
       "      <td>North Indian, Chinese, Kebab, Malwani</td>\n",
       "      <td>Baner</td>\n",
       "    </tr>\n",
       "    <tr>\n",
       "      <th>847</th>\n",
       "      <td>Ai Shiwu</td>\n",
       "      <td>50% OFF</td>\n",
       "      <td>3.6</td>\n",
       "      <td>₹250 for one</td>\n",
       "      <td>(1,146 Delivery Reviews)</td>\n",
       "      <td>Chinese, Asian, Thai</td>\n",
       "      <td>Baner</td>\n",
       "    </tr>\n",
       "    <tr>\n",
       "      <th>848</th>\n",
       "      <td>Mumbaian Pav Bhaji</td>\n",
       "      <td>50% OFF</td>\n",
       "      <td>3.2</td>\n",
       "      <td>₹150 for one</td>\n",
       "      <td>(46 Delivery Reviews)</td>\n",
       "      <td>Street Food</td>\n",
       "      <td>Baner</td>\n",
       "    </tr>\n",
       "    <tr>\n",
       "      <th>849</th>\n",
       "      <td>Shree Datta Bhel</td>\n",
       "      <td>50% OFF</td>\n",
       "      <td>3.9</td>\n",
       "      <td>₹50 for one</td>\n",
       "      <td>(15 Delivery Reviews)</td>\n",
       "      <td>Street Food</td>\n",
       "      <td>Baner</td>\n",
       "    </tr>\n",
       "    <tr>\n",
       "      <th>850</th>\n",
       "      <td>Eggie's</td>\n",
       "      <td>Pro extra 25% OFF</td>\n",
       "      <td>3.8</td>\n",
       "      <td>₹150 for one</td>\n",
       "      <td>(87 Delivery Reviews)</td>\n",
       "      <td>North Indian, Fast Food</td>\n",
       "      <td>Baner</td>\n",
       "    </tr>\n",
       "  </tbody>\n",
       "</table>\n",
       "<p>851 rows × 7 columns</p>\n",
       "</div>"
      ],
      "text/plain": [
       "                     Name                off  ratings         price_for_one  \\\n",
       "0              McDonald's            ₹50 OFF      4.1  ₹150 for one\\n30 min   \n",
       "1              Nawab Asia            ₹50 OFF      4.1  ₹350 for one\\n30 min   \n",
       "2                  Mithas            ₹50 OFF      4.3  ₹100 for one\\n29 min   \n",
       "3               Anna Idli            ₹50 OFF      4.2  ₹100 for one\\n30 min   \n",
       "4    Dadu's Sweet Emporio            ₹50 OFF      4.3  ₹150 for one\\n21 min   \n",
       "..                    ...                ...      ...                   ...   \n",
       "846       Happy Da Punjab            50% OFF      3.7          ₹150 for one   \n",
       "847              Ai Shiwu            50% OFF      3.6          ₹250 for one   \n",
       "848    Mumbaian Pav Bhaji            50% OFF      3.2          ₹150 for one   \n",
       "849      Shree Datta Bhel            50% OFF      3.9           ₹50 for one   \n",
       "850               Eggie's  Pro extra 25% OFF      3.8          ₹150 for one   \n",
       "\n",
       "             delivery_reviews  \\\n",
       "0    (9,810 Delivery Reviews)   \n",
       "1    (3,054 Delivery Reviews)   \n",
       "2    (2,262 Delivery Reviews)   \n",
       "3    (21.8K Delivery Reviews)   \n",
       "4    (4,504 Delivery Reviews)   \n",
       "..                        ...   \n",
       "846     (69 Delivery Reviews)   \n",
       "847  (1,146 Delivery Reviews)   \n",
       "848     (46 Delivery Reviews)   \n",
       "849     (15 Delivery Reviews)   \n",
       "850     (87 Delivery Reviews)   \n",
       "\n",
       "                                               cuisine locality  \n",
       "0                         Burger, Fast Food, Beverages    Baner  \n",
       "1    North Indian, Chinese, Mughlai, Biryani, Desse...    Baner  \n",
       "2                                  Mithai, Street Food    Baner  \n",
       "3                              South Indian, Beverages    Baner  \n",
       "4                       Mithai, Street Food, Ice Cream    Baner  \n",
       "..                                                 ...      ...  \n",
       "846              North Indian, Chinese, Kebab, Malwani    Baner  \n",
       "847                               Chinese, Asian, Thai    Baner  \n",
       "848                                        Street Food    Baner  \n",
       "849                                        Street Food    Baner  \n",
       "850                            North Indian, Fast Food    Baner  \n",
       "\n",
       "[851 rows x 7 columns]"
      ]
     },
     "execution_count": 14,
     "metadata": {},
     "output_type": "execute_result"
    }
   ],
   "source": [
    "baner = data_baner.dropna(subset=['ratings'])\n",
    "baner.reset_index(inplace=True, drop=True)\n",
    "baner"
   ]
  },
  {
   "cell_type": "code",
   "execution_count": 15,
   "metadata": {
    "id": "0FUj5sz2icts"
   },
   "outputs": [
    {
     "data": {
      "text/plain": [
       "<AxesSubplot:xlabel='Name'>"
      ]
     },
     "execution_count": 15,
     "metadata": {},
     "output_type": "execute_result"
    },
    {
     "data": {
      "image/png": "[encoded data removed]",
      "text/plain": [
       "<Figure size 432x288 with 1 Axes>"
      ]
     },
     "metadata": {
      "needs_background": "light"
     },
     "output_type": "display_data"
    }
   ],
   "source": [
    "baner.head(10).plot.bar(x='Name', y='ratings')\n",
    "\n"
   ]
  },
  {
   "cell_type": "markdown",
   "metadata": {
    "id": "PnxSfKjOM0JM"
   },
   "source": [
    "## Remove 'Delivery Reviews' in  'delivery_reviews' columns\n"
   ]
  },
  {
   "cell_type": "code",
   "execution_count": 16,
   "metadata": {
    "colab": {
     "base_uri": "https://localhost:8080/"
    },
    "id": "F_Z12-wvH3nC",
    "outputId": "2a5ab3e4-6c14-4069-f4b3-e76a38202186"
   },
   "outputs": [
    {
     "name": "stderr",
     "output_type": "stream",
     "text": [
      "C:\\Users\\Gaurav\\anaconda3\\lib\\site-packages\\pandas\\core\\generic.py:5168: SettingWithCopyWarning: \n",
      "A value is trying to be set on a copy of a slice from a DataFrame.\n",
      "Try using .loc[row_indexer,col_indexer] = value instead\n",
      "\n",
      "See the caveats in the documentation: https://pandas.pydata.org/pandas-docs/stable/user_guide/indexing.html#returning-a-view-versus-a-copy\n",
      "  self[name] = value\n"
     ]
    }
   ],
   "source": [
    "data_rat.delivery_reviews = data_rat.delivery_reviews.str.replace('[(,),Delivery,Reviews,Not,enough]','')"
   ]
  },
  {
   "cell_type": "code",
   "execution_count": 17,
   "metadata": {
    "colab": {
     "base_uri": "https://localhost:8080/",
     "height": 580
    },
    "id": "pNj6cBDiJWH1",
    "outputId": "fa235842-19ae-4ea2-8207-5965959c5130"
   },
   "outputs": [
    {
     "data": {
      "text/html": [
       "<div>\n",
       "<style scoped>\n",
       "    .dataframe tbody tr th:only-of-type {\n",
       "        vertical-align: middle;\n",
       "    }\n",
       "\n",
       "    .dataframe tbody tr th {\n",
       "        vertical-align: top;\n",
       "    }\n",
       "\n",
       "    .dataframe thead th {\n",
       "        text-align: right;\n",
       "    }\n",
       "</style>\n",
       "<table border=\"1\" class=\"dataframe\">\n",
       "  <thead>\n",
       "    <tr style=\"text-align: right;\">\n",
       "      <th></th>\n",
       "      <th>Name</th>\n",
       "      <th>off</th>\n",
       "      <th>ratings</th>\n",
       "      <th>price_for_one</th>\n",
       "      <th>delivery_reviews</th>\n",
       "      <th>cuisine</th>\n",
       "      <th>locality</th>\n",
       "    </tr>\n",
       "  </thead>\n",
       "  <tbody>\n",
       "    <tr>\n",
       "      <th>0</th>\n",
       "      <td>McDonald's</td>\n",
       "      <td>₹50 OFF</td>\n",
       "      <td>4.1</td>\n",
       "      <td>₹150 for one\\n30 min</td>\n",
       "      <td>9810</td>\n",
       "      <td>Burger, Fast Food, Beverages</td>\n",
       "      <td>Baner</td>\n",
       "    </tr>\n",
       "    <tr>\n",
       "      <th>1</th>\n",
       "      <td>Nawab Asia</td>\n",
       "      <td>₹50 OFF</td>\n",
       "      <td>4.1</td>\n",
       "      <td>₹350 for one\\n30 min</td>\n",
       "      <td>3054</td>\n",
       "      <td>North Indian, Chinese, Mughlai, Biryani, Desse...</td>\n",
       "      <td>Baner</td>\n",
       "    </tr>\n",
       "    <tr>\n",
       "      <th>2</th>\n",
       "      <td>Mithas</td>\n",
       "      <td>₹50 OFF</td>\n",
       "      <td>4.3</td>\n",
       "      <td>₹100 for one\\n29 min</td>\n",
       "      <td>2262</td>\n",
       "      <td>Mithai, Street Food</td>\n",
       "      <td>Baner</td>\n",
       "    </tr>\n",
       "    <tr>\n",
       "      <th>3</th>\n",
       "      <td>Anna Idli</td>\n",
       "      <td>₹50 OFF</td>\n",
       "      <td>4.2</td>\n",
       "      <td>₹100 for one\\n30 min</td>\n",
       "      <td>21.8K</td>\n",
       "      <td>South Indian, Beverages</td>\n",
       "      <td>Baner</td>\n",
       "    </tr>\n",
       "    <tr>\n",
       "      <th>4</th>\n",
       "      <td>Dadu's Sweet Emporio</td>\n",
       "      <td>₹50 OFF</td>\n",
       "      <td>4.3</td>\n",
       "      <td>₹150 for one\\n21 min</td>\n",
       "      <td>4504</td>\n",
       "      <td>Mithai, Street Food, Ice Cream</td>\n",
       "      <td>Baner</td>\n",
       "    </tr>\n",
       "    <tr>\n",
       "      <th>...</th>\n",
       "      <td>...</td>\n",
       "      <td>...</td>\n",
       "      <td>...</td>\n",
       "      <td>...</td>\n",
       "      <td>...</td>\n",
       "      <td>...</td>\n",
       "      <td>...</td>\n",
       "    </tr>\n",
       "    <tr>\n",
       "      <th>2954</th>\n",
       "      <td>Sambar House</td>\n",
       "      <td>50% OFF</td>\n",
       "      <td>3.7</td>\n",
       "      <td>₹50 for one</td>\n",
       "      <td>129</td>\n",
       "      <td>NaN</td>\n",
       "      <td>wakad</td>\n",
       "    </tr>\n",
       "    <tr>\n",
       "      <th>2955</th>\n",
       "      <td>Food Express MH 14</td>\n",
       "      <td>50% OFF</td>\n",
       "      <td>3.8</td>\n",
       "      <td>₹200 for one</td>\n",
       "      <td>333</td>\n",
       "      <td>NaN</td>\n",
       "      <td>wakad</td>\n",
       "    </tr>\n",
       "    <tr>\n",
       "      <th>2956</th>\n",
       "      <td>SnackEat</td>\n",
       "      <td>50% OFF</td>\n",
       "      <td>3.5</td>\n",
       "      <td>₹100 for one</td>\n",
       "      <td>140</td>\n",
       "      <td>NaN</td>\n",
       "      <td>wakad</td>\n",
       "    </tr>\n",
       "    <tr>\n",
       "      <th>2957</th>\n",
       "      <td>Suyog Misal House</td>\n",
       "      <td>50% OFF</td>\n",
       "      <td>3.8</td>\n",
       "      <td>₹300 for one</td>\n",
       "      <td>33</td>\n",
       "      <td>NaN</td>\n",
       "      <td>wakad</td>\n",
       "    </tr>\n",
       "    <tr>\n",
       "      <th>2958</th>\n",
       "      <td>Chinese Food Court</td>\n",
       "      <td>NaN</td>\n",
       "      <td>3.6</td>\n",
       "      <td>₹300 for one</td>\n",
       "      <td>21</td>\n",
       "      <td>NaN</td>\n",
       "      <td>wakad</td>\n",
       "    </tr>\n",
       "  </tbody>\n",
       "</table>\n",
       "<p>2959 rows × 7 columns</p>\n",
       "</div>"
      ],
      "text/plain": [
       "                      Name      off  ratings         price_for_one  \\\n",
       "0               McDonald's  ₹50 OFF      4.1  ₹150 for one\\n30 min   \n",
       "1               Nawab Asia  ₹50 OFF      4.1  ₹350 for one\\n30 min   \n",
       "2                   Mithas  ₹50 OFF      4.3  ₹100 for one\\n29 min   \n",
       "3                Anna Idli  ₹50 OFF      4.2  ₹100 for one\\n30 min   \n",
       "4     Dadu's Sweet Emporio  ₹50 OFF      4.3  ₹150 for one\\n21 min   \n",
       "...                    ...      ...      ...                   ...   \n",
       "2954          Sambar House  50% OFF      3.7           ₹50 for one   \n",
       "2955    Food Express MH 14  50% OFF      3.8          ₹200 for one   \n",
       "2956              SnackEat  50% OFF      3.5          ₹100 for one   \n",
       "2957     Suyog Misal House  50% OFF      3.8          ₹300 for one   \n",
       "2958    Chinese Food Court      NaN      3.6          ₹300 for one   \n",
       "\n",
       "     delivery_reviews                                            cuisine  \\\n",
       "0              9810                         Burger, Fast Food, Beverages   \n",
       "1              3054    North Indian, Chinese, Mughlai, Biryani, Desse...   \n",
       "2              2262                                  Mithai, Street Food   \n",
       "3             21.8K                              South Indian, Beverages   \n",
       "4              4504                       Mithai, Street Food, Ice Cream   \n",
       "...               ...                                                ...   \n",
       "2954            129                                                  NaN   \n",
       "2955            333                                                  NaN   \n",
       "2956            140                                                  NaN   \n",
       "2957             33                                                  NaN   \n",
       "2958             21                                                  NaN   \n",
       "\n",
       "     locality  \n",
       "0       Baner  \n",
       "1       Baner  \n",
       "2       Baner  \n",
       "3       Baner  \n",
       "4       Baner  \n",
       "...       ...  \n",
       "2954    wakad  \n",
       "2955    wakad  \n",
       "2956    wakad  \n",
       "2957    wakad  \n",
       "2958    wakad  \n",
       "\n",
       "[2959 rows x 7 columns]"
      ]
     },
     "execution_count": 17,
     "metadata": {},
     "output_type": "execute_result"
    }
   ],
   "source": [
    "data_rat"
   ]
  },
  {
   "cell_type": "markdown",
   "metadata": {
    "id": "pMmhrKJDM6m9"
   },
   "source": [
    "## Replace 'K' vaslue in delivery_reviews columns"
   ]
  },
  {
   "cell_type": "code",
   "execution_count": 18,
   "metadata": {
    "colab": {
     "base_uri": "https://localhost:8080/"
    },
    "id": "jeKV6G3oJxP6",
    "outputId": "de6997e4-92aa-4630-deca-ad1adba1ac22"
   },
   "outputs": [
    {
     "name": "stderr",
     "output_type": "stream",
     "text": [
      "C:\\Users\\Gaurav\\anaconda3\\lib\\site-packages\\pandas\\core\\generic.py:5168: SettingWithCopyWarning: \n",
      "A value is trying to be set on a copy of a slice from a DataFrame.\n",
      "Try using .loc[row_indexer,col_indexer] = value instead\n",
      "\n",
      "See the caveats in the documentation: https://pandas.pydata.org/pandas-docs/stable/user_guide/indexing.html#returning-a-view-versus-a-copy\n",
      "  self[name] = value\n"
     ]
    }
   ],
   "source": [
    "def value_to_float(x):\n",
    "    if type(x) == float or type(x) == int:\n",
    "       return x\n",
    "    if 'K' in x:\n",
    "       if len(x)>1:\n",
    "          return float(x.replace('K',''))*1000\n",
    "       return 1000.0\n",
    "    return x\n",
    "\n",
    "data_rat.delivery_reviews = data_rat.delivery_reviews.apply(value_to_float)  "
   ]
  },
  {
   "cell_type": "code",
   "execution_count": 19,
   "metadata": {
    "colab": {
     "base_uri": "https://localhost:8080/",
     "height": 580
    },
    "id": "EDEJ_7ImLGHJ",
    "outputId": "49f0ee42-6ce2-4f66-b190-6224cd91963e"
   },
   "outputs": [
    {
     "data": {
      "text/html": [
       "<div>\n",
       "<style scoped>\n",
       "    .dataframe tbody tr th:only-of-type {\n",
       "        vertical-align: middle;\n",
       "    }\n",
       "\n",
       "    .dataframe tbody tr th {\n",
       "        vertical-align: top;\n",
       "    }\n",
       "\n",
       "    .dataframe thead th {\n",
       "        text-align: right;\n",
       "    }\n",
       "</style>\n",
       "<table border=\"1\" class=\"dataframe\">\n",
       "  <thead>\n",
       "    <tr style=\"text-align: right;\">\n",
       "      <th></th>\n",
       "      <th>Name</th>\n",
       "      <th>off</th>\n",
       "      <th>ratings</th>\n",
       "      <th>price_for_one</th>\n",
       "      <th>delivery_reviews</th>\n",
       "      <th>cuisine</th>\n",
       "      <th>locality</th>\n",
       "    </tr>\n",
       "  </thead>\n",
       "  <tbody>\n",
       "    <tr>\n",
       "      <th>0</th>\n",
       "      <td>McDonald's</td>\n",
       "      <td>₹50 OFF</td>\n",
       "      <td>4.1</td>\n",
       "      <td>₹150 for one\\n30 min</td>\n",
       "      <td>9810</td>\n",
       "      <td>Burger, Fast Food, Beverages</td>\n",
       "      <td>Baner</td>\n",
       "    </tr>\n",
       "    <tr>\n",
       "      <th>1</th>\n",
       "      <td>Nawab Asia</td>\n",
       "      <td>₹50 OFF</td>\n",
       "      <td>4.1</td>\n",
       "      <td>₹350 for one\\n30 min</td>\n",
       "      <td>3054</td>\n",
       "      <td>North Indian, Chinese, Mughlai, Biryani, Desse...</td>\n",
       "      <td>Baner</td>\n",
       "    </tr>\n",
       "    <tr>\n",
       "      <th>2</th>\n",
       "      <td>Mithas</td>\n",
       "      <td>₹50 OFF</td>\n",
       "      <td>4.3</td>\n",
       "      <td>₹100 for one\\n29 min</td>\n",
       "      <td>2262</td>\n",
       "      <td>Mithai, Street Food</td>\n",
       "      <td>Baner</td>\n",
       "    </tr>\n",
       "    <tr>\n",
       "      <th>3</th>\n",
       "      <td>Anna Idli</td>\n",
       "      <td>₹50 OFF</td>\n",
       "      <td>4.2</td>\n",
       "      <td>₹100 for one\\n30 min</td>\n",
       "      <td>21800</td>\n",
       "      <td>South Indian, Beverages</td>\n",
       "      <td>Baner</td>\n",
       "    </tr>\n",
       "    <tr>\n",
       "      <th>4</th>\n",
       "      <td>Dadu's Sweet Emporio</td>\n",
       "      <td>₹50 OFF</td>\n",
       "      <td>4.3</td>\n",
       "      <td>₹150 for one\\n21 min</td>\n",
       "      <td>4504</td>\n",
       "      <td>Mithai, Street Food, Ice Cream</td>\n",
       "      <td>Baner</td>\n",
       "    </tr>\n",
       "    <tr>\n",
       "      <th>...</th>\n",
       "      <td>...</td>\n",
       "      <td>...</td>\n",
       "      <td>...</td>\n",
       "      <td>...</td>\n",
       "      <td>...</td>\n",
       "      <td>...</td>\n",
       "      <td>...</td>\n",
       "    </tr>\n",
       "    <tr>\n",
       "      <th>2954</th>\n",
       "      <td>Sambar House</td>\n",
       "      <td>50% OFF</td>\n",
       "      <td>3.7</td>\n",
       "      <td>₹50 for one</td>\n",
       "      <td>129</td>\n",
       "      <td>NaN</td>\n",
       "      <td>wakad</td>\n",
       "    </tr>\n",
       "    <tr>\n",
       "      <th>2955</th>\n",
       "      <td>Food Express MH 14</td>\n",
       "      <td>50% OFF</td>\n",
       "      <td>3.8</td>\n",
       "      <td>₹200 for one</td>\n",
       "      <td>333</td>\n",
       "      <td>NaN</td>\n",
       "      <td>wakad</td>\n",
       "    </tr>\n",
       "    <tr>\n",
       "      <th>2956</th>\n",
       "      <td>SnackEat</td>\n",
       "      <td>50% OFF</td>\n",
       "      <td>3.5</td>\n",
       "      <td>₹100 for one</td>\n",
       "      <td>140</td>\n",
       "      <td>NaN</td>\n",
       "      <td>wakad</td>\n",
       "    </tr>\n",
       "    <tr>\n",
       "      <th>2957</th>\n",
       "      <td>Suyog Misal House</td>\n",
       "      <td>50% OFF</td>\n",
       "      <td>3.8</td>\n",
       "      <td>₹300 for one</td>\n",
       "      <td>33</td>\n",
       "      <td>NaN</td>\n",
       "      <td>wakad</td>\n",
       "    </tr>\n",
       "    <tr>\n",
       "      <th>2958</th>\n",
       "      <td>Chinese Food Court</td>\n",
       "      <td>NaN</td>\n",
       "      <td>3.6</td>\n",
       "      <td>₹300 for one</td>\n",
       "      <td>21</td>\n",
       "      <td>NaN</td>\n",
       "      <td>wakad</td>\n",
       "    </tr>\n",
       "  </tbody>\n",
       "</table>\n",
       "<p>2959 rows × 7 columns</p>\n",
       "</div>"
      ],
      "text/plain": [
       "                      Name      off  ratings         price_for_one  \\\n",
       "0               McDonald's  ₹50 OFF      4.1  ₹150 for one\\n30 min   \n",
       "1               Nawab Asia  ₹50 OFF      4.1  ₹350 for one\\n30 min   \n",
       "2                   Mithas  ₹50 OFF      4.3  ₹100 for one\\n29 min   \n",
       "3                Anna Idli  ₹50 OFF      4.2  ₹100 for one\\n30 min   \n",
       "4     Dadu's Sweet Emporio  ₹50 OFF      4.3  ₹150 for one\\n21 min   \n",
       "...                    ...      ...      ...                   ...   \n",
       "2954          Sambar House  50% OFF      3.7           ₹50 for one   \n",
       "2955    Food Express MH 14  50% OFF      3.8          ₹200 for one   \n",
       "2956              SnackEat  50% OFF      3.5          ₹100 for one   \n",
       "2957     Suyog Misal House  50% OFF      3.8          ₹300 for one   \n",
       "2958    Chinese Food Court      NaN      3.6          ₹300 for one   \n",
       "\n",
       "     delivery_reviews                                            cuisine  \\\n",
       "0              9810                         Burger, Fast Food, Beverages   \n",
       "1              3054    North Indian, Chinese, Mughlai, Biryani, Desse...   \n",
       "2              2262                                  Mithai, Street Food   \n",
       "3               21800                            South Indian, Beverages   \n",
       "4              4504                       Mithai, Street Food, Ice Cream   \n",
       "...               ...                                                ...   \n",
       "2954            129                                                  NaN   \n",
       "2955            333                                                  NaN   \n",
       "2956            140                                                  NaN   \n",
       "2957             33                                                  NaN   \n",
       "2958             21                                                  NaN   \n",
       "\n",
       "     locality  \n",
       "0       Baner  \n",
       "1       Baner  \n",
       "2       Baner  \n",
       "3       Baner  \n",
       "4       Baner  \n",
       "...       ...  \n",
       "2954    wakad  \n",
       "2955    wakad  \n",
       "2956    wakad  \n",
       "2957    wakad  \n",
       "2958    wakad  \n",
       "\n",
       "[2959 rows x 7 columns]"
      ]
     },
     "execution_count": 19,
     "metadata": {},
     "output_type": "execute_result"
    }
   ],
   "source": [
    "data_rat"
   ]
  },
  {
   "cell_type": "markdown",
   "metadata": {
    "id": "ZIla5xynL8KX"
   },
   "source": [
    "## Converting 'delivery_reviews' Values into Integers\n",
    "\n"
   ]
  },
  {
   "cell_type": "code",
   "execution_count": 20,
   "metadata": {
    "colab": {
     "base_uri": "https://localhost:8080/"
    },
    "id": "1J42EJYPhSN2",
    "outputId": "23fbfd41-1752-48c4-c5b1-cc002fd43091"
   },
   "outputs": [
    {
     "name": "stderr",
     "output_type": "stream",
     "text": [
      "<ipython-input-20-8987830d0644>:7: SettingWithCopyWarning: \n",
      "A value is trying to be set on a copy of a slice from a DataFrame.\n",
      "Try using .loc[row_indexer,col_indexer] = value instead\n",
      "\n",
      "See the caveats in the documentation: https://pandas.pydata.org/pandas-docs/stable/user_guide/indexing.html#returning-a-view-versus-a-copy\n",
      "  data_rat['delivery_reviews'] = data_rat['delivery_reviews'].apply(clean)\n"
     ]
    }
   ],
   "source": [
    "\n",
    "def clean(x):\n",
    "    try:\n",
    "       return int(x)\n",
    "    except:\n",
    "       return np.NaN\n",
    "\n",
    "data_rat['delivery_reviews'] = data_rat['delivery_reviews'].apply(clean)   "
   ]
  },
  {
   "cell_type": "code",
   "execution_count": 21,
   "metadata": {
    "colab": {
     "base_uri": "https://localhost:8080/"
    },
    "id": "6sRbnWYEEZGk",
    "outputId": "091f6aa9-3693-4fb1-a2b5-80624aa58a65"
   },
   "outputs": [
    {
     "name": "stdout",
     "output_type": "stream",
     "text": [
      "<class 'pandas.core.frame.DataFrame'>\n",
      "RangeIndex: 2959 entries, 0 to 2958\n",
      "Data columns (total 7 columns):\n",
      " #   Column            Non-Null Count  Dtype  \n",
      "---  ------            --------------  -----  \n",
      " 0   Name              2959 non-null   object \n",
      " 1   off               2475 non-null   object \n",
      " 2   ratings           2959 non-null   float64\n",
      " 3   price_for_one     2763 non-null   object \n",
      " 4   delivery_reviews  2735 non-null   float64\n",
      " 5   cuisine           2178 non-null   object \n",
      " 6   locality          2959 non-null   object \n",
      "dtypes: float64(2), object(5)\n",
      "memory usage: 161.9+ KB\n"
     ]
    }
   ],
   "source": [
    "data_rat.info()"
   ]
  },
  {
   "cell_type": "markdown",
   "metadata": {
    "id": "MhLvm13pNwY1"
   },
   "source": [
    "## Drop NaN value from 'delivery_reviews'\n"
   ]
  },
  {
   "cell_type": "code",
   "execution_count": 22,
   "metadata": {
    "id": "iqdBhjbtEnrn"
   },
   "outputs": [],
   "source": [
    "data_rat = data_rat.dropna(subset=['delivery_reviews'])\n",
    "\n"
   ]
  },
  {
   "cell_type": "code",
   "execution_count": 23,
   "metadata": {
    "colab": {
     "base_uri": "https://localhost:8080/",
     "height": 580
    },
    "id": "aBWct-nyFNjp",
    "outputId": "fbc491ed-d50a-409c-fada-1c82577274e8"
   },
   "outputs": [
    {
     "data": {
      "text/html": [
       "<div>\n",
       "<style scoped>\n",
       "    .dataframe tbody tr th:only-of-type {\n",
       "        vertical-align: middle;\n",
       "    }\n",
       "\n",
       "    .dataframe tbody tr th {\n",
       "        vertical-align: top;\n",
       "    }\n",
       "\n",
       "    .dataframe thead th {\n",
       "        text-align: right;\n",
       "    }\n",
       "</style>\n",
       "<table border=\"1\" class=\"dataframe\">\n",
       "  <thead>\n",
       "    <tr style=\"text-align: right;\">\n",
       "      <th></th>\n",
       "      <th>Name</th>\n",
       "      <th>off</th>\n",
       "      <th>ratings</th>\n",
       "      <th>price_for_one</th>\n",
       "      <th>delivery_reviews</th>\n",
       "      <th>cuisine</th>\n",
       "      <th>locality</th>\n",
       "    </tr>\n",
       "  </thead>\n",
       "  <tbody>\n",
       "    <tr>\n",
       "      <th>0</th>\n",
       "      <td>McDonald's</td>\n",
       "      <td>₹50 OFF</td>\n",
       "      <td>4.1</td>\n",
       "      <td>₹150 for one\\n30 min</td>\n",
       "      <td>9810.0</td>\n",
       "      <td>Burger, Fast Food, Beverages</td>\n",
       "      <td>Baner</td>\n",
       "    </tr>\n",
       "    <tr>\n",
       "      <th>1</th>\n",
       "      <td>Nawab Asia</td>\n",
       "      <td>₹50 OFF</td>\n",
       "      <td>4.1</td>\n",
       "      <td>₹350 for one\\n30 min</td>\n",
       "      <td>3054.0</td>\n",
       "      <td>North Indian, Chinese, Mughlai, Biryani, Desse...</td>\n",
       "      <td>Baner</td>\n",
       "    </tr>\n",
       "    <tr>\n",
       "      <th>2</th>\n",
       "      <td>Mithas</td>\n",
       "      <td>₹50 OFF</td>\n",
       "      <td>4.3</td>\n",
       "      <td>₹100 for one\\n29 min</td>\n",
       "      <td>2262.0</td>\n",
       "      <td>Mithai, Street Food</td>\n",
       "      <td>Baner</td>\n",
       "    </tr>\n",
       "    <tr>\n",
       "      <th>3</th>\n",
       "      <td>Anna Idli</td>\n",
       "      <td>₹50 OFF</td>\n",
       "      <td>4.2</td>\n",
       "      <td>₹100 for one\\n30 min</td>\n",
       "      <td>21800.0</td>\n",
       "      <td>South Indian, Beverages</td>\n",
       "      <td>Baner</td>\n",
       "    </tr>\n",
       "    <tr>\n",
       "      <th>4</th>\n",
       "      <td>Dadu's Sweet Emporio</td>\n",
       "      <td>₹50 OFF</td>\n",
       "      <td>4.3</td>\n",
       "      <td>₹150 for one\\n21 min</td>\n",
       "      <td>4504.0</td>\n",
       "      <td>Mithai, Street Food, Ice Cream</td>\n",
       "      <td>Baner</td>\n",
       "    </tr>\n",
       "    <tr>\n",
       "      <th>...</th>\n",
       "      <td>...</td>\n",
       "      <td>...</td>\n",
       "      <td>...</td>\n",
       "      <td>...</td>\n",
       "      <td>...</td>\n",
       "      <td>...</td>\n",
       "      <td>...</td>\n",
       "    </tr>\n",
       "    <tr>\n",
       "      <th>2954</th>\n",
       "      <td>Sambar House</td>\n",
       "      <td>50% OFF</td>\n",
       "      <td>3.7</td>\n",
       "      <td>₹50 for one</td>\n",
       "      <td>129.0</td>\n",
       "      <td>NaN</td>\n",
       "      <td>wakad</td>\n",
       "    </tr>\n",
       "    <tr>\n",
       "      <th>2955</th>\n",
       "      <td>Food Express MH 14</td>\n",
       "      <td>50% OFF</td>\n",
       "      <td>3.8</td>\n",
       "      <td>₹200 for one</td>\n",
       "      <td>333.0</td>\n",
       "      <td>NaN</td>\n",
       "      <td>wakad</td>\n",
       "    </tr>\n",
       "    <tr>\n",
       "      <th>2956</th>\n",
       "      <td>SnackEat</td>\n",
       "      <td>50% OFF</td>\n",
       "      <td>3.5</td>\n",
       "      <td>₹100 for one</td>\n",
       "      <td>140.0</td>\n",
       "      <td>NaN</td>\n",
       "      <td>wakad</td>\n",
       "    </tr>\n",
       "    <tr>\n",
       "      <th>2957</th>\n",
       "      <td>Suyog Misal House</td>\n",
       "      <td>50% OFF</td>\n",
       "      <td>3.8</td>\n",
       "      <td>₹300 for one</td>\n",
       "      <td>33.0</td>\n",
       "      <td>NaN</td>\n",
       "      <td>wakad</td>\n",
       "    </tr>\n",
       "    <tr>\n",
       "      <th>2958</th>\n",
       "      <td>Chinese Food Court</td>\n",
       "      <td>NaN</td>\n",
       "      <td>3.6</td>\n",
       "      <td>₹300 for one</td>\n",
       "      <td>21.0</td>\n",
       "      <td>NaN</td>\n",
       "      <td>wakad</td>\n",
       "    </tr>\n",
       "  </tbody>\n",
       "</table>\n",
       "<p>2735 rows × 7 columns</p>\n",
       "</div>"
      ],
      "text/plain": [
       "                      Name      off  ratings         price_for_one  \\\n",
       "0               McDonald's  ₹50 OFF      4.1  ₹150 for one\\n30 min   \n",
       "1               Nawab Asia  ₹50 OFF      4.1  ₹350 for one\\n30 min   \n",
       "2                   Mithas  ₹50 OFF      4.3  ₹100 for one\\n29 min   \n",
       "3                Anna Idli  ₹50 OFF      4.2  ₹100 for one\\n30 min   \n",
       "4     Dadu's Sweet Emporio  ₹50 OFF      4.3  ₹150 for one\\n21 min   \n",
       "...                    ...      ...      ...                   ...   \n",
       "2954          Sambar House  50% OFF      3.7           ₹50 for one   \n",
       "2955    Food Express MH 14  50% OFF      3.8          ₹200 for one   \n",
       "2956              SnackEat  50% OFF      3.5          ₹100 for one   \n",
       "2957     Suyog Misal House  50% OFF      3.8          ₹300 for one   \n",
       "2958    Chinese Food Court      NaN      3.6          ₹300 for one   \n",
       "\n",
       "      delivery_reviews                                            cuisine  \\\n",
       "0               9810.0                       Burger, Fast Food, Beverages   \n",
       "1               3054.0  North Indian, Chinese, Mughlai, Biryani, Desse...   \n",
       "2               2262.0                                Mithai, Street Food   \n",
       "3              21800.0                            South Indian, Beverages   \n",
       "4               4504.0                     Mithai, Street Food, Ice Cream   \n",
       "...                ...                                                ...   \n",
       "2954             129.0                                                NaN   \n",
       "2955             333.0                                                NaN   \n",
       "2956             140.0                                                NaN   \n",
       "2957              33.0                                                NaN   \n",
       "2958              21.0                                                NaN   \n",
       "\n",
       "     locality  \n",
       "0       Baner  \n",
       "1       Baner  \n",
       "2       Baner  \n",
       "3       Baner  \n",
       "4       Baner  \n",
       "...       ...  \n",
       "2954    wakad  \n",
       "2955    wakad  \n",
       "2956    wakad  \n",
       "2957    wakad  \n",
       "2958    wakad  \n",
       "\n",
       "[2735 rows x 7 columns]"
      ]
     },
     "execution_count": 23,
     "metadata": {},
     "output_type": "execute_result"
    }
   ],
   "source": [
    "data_rat[data_rat.delivery_reviews !='']"
   ]
  },
  {
   "cell_type": "code",
   "execution_count": 24,
   "metadata": {
    "colab": {
     "base_uri": "https://localhost:8080/"
    },
    "id": "FBh0dvXiFyxY",
    "outputId": "7cfb1b88-fbd7-404e-ef85-1a876ff88159"
   },
   "outputs": [
    {
     "data": {
      "text/plain": [
       "128    241.0\n",
       "129    188.0\n",
       "130    161.0\n",
       "131    150.0\n",
       "132     75.0\n",
       "Name: delivery_reviews, dtype: float64"
      ]
     },
     "execution_count": 24,
     "metadata": {},
     "output_type": "execute_result"
    }
   ],
   "source": [
    "data_rat['delivery_reviews'][125:130]"
   ]
  },
  {
   "cell_type": "markdown",
   "metadata": {
    "id": "tiT3CGt6NzMr"
   },
   "source": [
    "## Adjust Index\n"
   ]
  },
  {
   "cell_type": "code",
   "execution_count": 25,
   "metadata": {
    "colab": {
     "base_uri": "https://localhost:8080/",
     "height": 580
    },
    "id": "lhfKd9_SGW5z",
    "outputId": "cf7a0221-85dd-40ff-8878-122bcb8f3054"
   },
   "outputs": [
    {
     "data": {
      "text/html": [
       "<div>\n",
       "<style scoped>\n",
       "    .dataframe tbody tr th:only-of-type {\n",
       "        vertical-align: middle;\n",
       "    }\n",
       "\n",
       "    .dataframe tbody tr th {\n",
       "        vertical-align: top;\n",
       "    }\n",
       "\n",
       "    .dataframe thead th {\n",
       "        text-align: right;\n",
       "    }\n",
       "</style>\n",
       "<table border=\"1\" class=\"dataframe\">\n",
       "  <thead>\n",
       "    <tr style=\"text-align: right;\">\n",
       "      <th></th>\n",
       "      <th>Name</th>\n",
       "      <th>off</th>\n",
       "      <th>ratings</th>\n",
       "      <th>price_for_one</th>\n",
       "      <th>delivery_reviews</th>\n",
       "      <th>cuisine</th>\n",
       "      <th>locality</th>\n",
       "    </tr>\n",
       "  </thead>\n",
       "  <tbody>\n",
       "    <tr>\n",
       "      <th>0</th>\n",
       "      <td>McDonald's</td>\n",
       "      <td>₹50 OFF</td>\n",
       "      <td>4.1</td>\n",
       "      <td>₹150 for one\\n30 min</td>\n",
       "      <td>9810.0</td>\n",
       "      <td>Burger, Fast Food, Beverages</td>\n",
       "      <td>Baner</td>\n",
       "    </tr>\n",
       "    <tr>\n",
       "      <th>1</th>\n",
       "      <td>Nawab Asia</td>\n",
       "      <td>₹50 OFF</td>\n",
       "      <td>4.1</td>\n",
       "      <td>₹350 for one\\n30 min</td>\n",
       "      <td>3054.0</td>\n",
       "      <td>North Indian, Chinese, Mughlai, Biryani, Desse...</td>\n",
       "      <td>Baner</td>\n",
       "    </tr>\n",
       "    <tr>\n",
       "      <th>2</th>\n",
       "      <td>Mithas</td>\n",
       "      <td>₹50 OFF</td>\n",
       "      <td>4.3</td>\n",
       "      <td>₹100 for one\\n29 min</td>\n",
       "      <td>2262.0</td>\n",
       "      <td>Mithai, Street Food</td>\n",
       "      <td>Baner</td>\n",
       "    </tr>\n",
       "    <tr>\n",
       "      <th>3</th>\n",
       "      <td>Anna Idli</td>\n",
       "      <td>₹50 OFF</td>\n",
       "      <td>4.2</td>\n",
       "      <td>₹100 for one\\n30 min</td>\n",
       "      <td>21800.0</td>\n",
       "      <td>South Indian, Beverages</td>\n",
       "      <td>Baner</td>\n",
       "    </tr>\n",
       "    <tr>\n",
       "      <th>4</th>\n",
       "      <td>Dadu's Sweet Emporio</td>\n",
       "      <td>₹50 OFF</td>\n",
       "      <td>4.3</td>\n",
       "      <td>₹150 for one\\n21 min</td>\n",
       "      <td>4504.0</td>\n",
       "      <td>Mithai, Street Food, Ice Cream</td>\n",
       "      <td>Baner</td>\n",
       "    </tr>\n",
       "    <tr>\n",
       "      <th>...</th>\n",
       "      <td>...</td>\n",
       "      <td>...</td>\n",
       "      <td>...</td>\n",
       "      <td>...</td>\n",
       "      <td>...</td>\n",
       "      <td>...</td>\n",
       "      <td>...</td>\n",
       "    </tr>\n",
       "    <tr>\n",
       "      <th>2730</th>\n",
       "      <td>Sambar House</td>\n",
       "      <td>50% OFF</td>\n",
       "      <td>3.7</td>\n",
       "      <td>₹50 for one</td>\n",
       "      <td>129.0</td>\n",
       "      <td>NaN</td>\n",
       "      <td>wakad</td>\n",
       "    </tr>\n",
       "    <tr>\n",
       "      <th>2731</th>\n",
       "      <td>Food Express MH 14</td>\n",
       "      <td>50% OFF</td>\n",
       "      <td>3.8</td>\n",
       "      <td>₹200 for one</td>\n",
       "      <td>333.0</td>\n",
       "      <td>NaN</td>\n",
       "      <td>wakad</td>\n",
       "    </tr>\n",
       "    <tr>\n",
       "      <th>2732</th>\n",
       "      <td>SnackEat</td>\n",
       "      <td>50% OFF</td>\n",
       "      <td>3.5</td>\n",
       "      <td>₹100 for one</td>\n",
       "      <td>140.0</td>\n",
       "      <td>NaN</td>\n",
       "      <td>wakad</td>\n",
       "    </tr>\n",
       "    <tr>\n",
       "      <th>2733</th>\n",
       "      <td>Suyog Misal House</td>\n",
       "      <td>50% OFF</td>\n",
       "      <td>3.8</td>\n",
       "      <td>₹300 for one</td>\n",
       "      <td>33.0</td>\n",
       "      <td>NaN</td>\n",
       "      <td>wakad</td>\n",
       "    </tr>\n",
       "    <tr>\n",
       "      <th>2734</th>\n",
       "      <td>Chinese Food Court</td>\n",
       "      <td>NaN</td>\n",
       "      <td>3.6</td>\n",
       "      <td>₹300 for one</td>\n",
       "      <td>21.0</td>\n",
       "      <td>NaN</td>\n",
       "      <td>wakad</td>\n",
       "    </tr>\n",
       "  </tbody>\n",
       "</table>\n",
       "<p>2735 rows × 7 columns</p>\n",
       "</div>"
      ],
      "text/plain": [
       "                      Name      off  ratings         price_for_one  \\\n",
       "0               McDonald's  ₹50 OFF      4.1  ₹150 for one\\n30 min   \n",
       "1               Nawab Asia  ₹50 OFF      4.1  ₹350 for one\\n30 min   \n",
       "2                   Mithas  ₹50 OFF      4.3  ₹100 for one\\n29 min   \n",
       "3                Anna Idli  ₹50 OFF      4.2  ₹100 for one\\n30 min   \n",
       "4     Dadu's Sweet Emporio  ₹50 OFF      4.3  ₹150 for one\\n21 min   \n",
       "...                    ...      ...      ...                   ...   \n",
       "2730          Sambar House  50% OFF      3.7           ₹50 for one   \n",
       "2731    Food Express MH 14  50% OFF      3.8          ₹200 for one   \n",
       "2732              SnackEat  50% OFF      3.5          ₹100 for one   \n",
       "2733     Suyog Misal House  50% OFF      3.8          ₹300 for one   \n",
       "2734    Chinese Food Court      NaN      3.6          ₹300 for one   \n",
       "\n",
       "      delivery_reviews                                            cuisine  \\\n",
       "0               9810.0                       Burger, Fast Food, Beverages   \n",
       "1               3054.0  North Indian, Chinese, Mughlai, Biryani, Desse...   \n",
       "2               2262.0                                Mithai, Street Food   \n",
       "3              21800.0                            South Indian, Beverages   \n",
       "4               4504.0                     Mithai, Street Food, Ice Cream   \n",
       "...                ...                                                ...   \n",
       "2730             129.0                                                NaN   \n",
       "2731             333.0                                                NaN   \n",
       "2732             140.0                                                NaN   \n",
       "2733              33.0                                                NaN   \n",
       "2734              21.0                                                NaN   \n",
       "\n",
       "     locality  \n",
       "0       Baner  \n",
       "1       Baner  \n",
       "2       Baner  \n",
       "3       Baner  \n",
       "4       Baner  \n",
       "...       ...  \n",
       "2730    wakad  \n",
       "2731    wakad  \n",
       "2732    wakad  \n",
       "2733    wakad  \n",
       "2734    wakad  \n",
       "\n",
       "[2735 rows x 7 columns]"
      ]
     },
     "execution_count": 25,
     "metadata": {},
     "output_type": "execute_result"
    }
   ],
   "source": [
    "data_rat.reset_index(inplace=True, drop=True)\n",
    "data_rat"
   ]
  },
  {
   "cell_type": "code",
   "execution_count": 26,
   "metadata": {
    "colab": {
     "base_uri": "https://localhost:8080/"
    },
    "id": "_DiD6PVGLLpe",
    "outputId": "db0f7aa8-24c3-4a6e-fca3-45754523fa61"
   },
   "outputs": [
    {
     "name": "stdout",
     "output_type": "stream",
     "text": [
      "<class 'pandas.core.frame.DataFrame'>\n",
      "RangeIndex: 2735 entries, 0 to 2734\n",
      "Data columns (total 7 columns):\n",
      " #   Column            Non-Null Count  Dtype  \n",
      "---  ------            --------------  -----  \n",
      " 0   Name              2735 non-null   object \n",
      " 1   off               2335 non-null   object \n",
      " 2   ratings           2735 non-null   float64\n",
      " 3   price_for_one     2539 non-null   object \n",
      " 4   delivery_reviews  2735 non-null   float64\n",
      " 5   cuisine           1997 non-null   object \n",
      " 6   locality          2735 non-null   object \n",
      "dtypes: float64(2), object(5)\n",
      "memory usage: 149.7+ KB\n"
     ]
    }
   ],
   "source": [
    "data_rat.info()"
   ]
  },
  {
   "cell_type": "code",
   "execution_count": 27,
   "metadata": {
    "colab": {
     "base_uri": "https://localhost:8080/",
     "height": 521
    },
    "id": "0xa7gjNNT7Fu",
    "outputId": "9efac423-c490-4143-c09d-5ccd95c8ea2a"
   },
   "outputs": [
    {
     "data": {
      "text/html": [
       "<div>\n",
       "<style scoped>\n",
       "    .dataframe tbody tr th:only-of-type {\n",
       "        vertical-align: middle;\n",
       "    }\n",
       "\n",
       "    .dataframe tbody tr th {\n",
       "        vertical-align: top;\n",
       "    }\n",
       "\n",
       "    .dataframe thead th {\n",
       "        text-align: right;\n",
       "    }\n",
       "</style>\n",
       "<table border=\"1\" class=\"dataframe\">\n",
       "  <thead>\n",
       "    <tr style=\"text-align: right;\">\n",
       "      <th></th>\n",
       "      <th>Name</th>\n",
       "      <th>off</th>\n",
       "      <th>ratings</th>\n",
       "      <th>price_for_one</th>\n",
       "      <th>delivery_reviews</th>\n",
       "      <th>cuisine</th>\n",
       "      <th>locality</th>\n",
       "    </tr>\n",
       "  </thead>\n",
       "  <tbody>\n",
       "    <tr>\n",
       "      <th>0</th>\n",
       "      <td>McDonald's</td>\n",
       "      <td>₹50 OFF</td>\n",
       "      <td>4.1</td>\n",
       "      <td>₹150 for one\\n30 min</td>\n",
       "      <td>9810.0</td>\n",
       "      <td>Burger, Fast Food, Beverages</td>\n",
       "      <td>Baner</td>\n",
       "    </tr>\n",
       "    <tr>\n",
       "      <th>1</th>\n",
       "      <td>Nawab Asia</td>\n",
       "      <td>₹50 OFF</td>\n",
       "      <td>4.1</td>\n",
       "      <td>₹350 for one\\n30 min</td>\n",
       "      <td>3054.0</td>\n",
       "      <td>North Indian, Chinese, Mughlai, Biryani, Desse...</td>\n",
       "      <td>Baner</td>\n",
       "    </tr>\n",
       "    <tr>\n",
       "      <th>2</th>\n",
       "      <td>Mithas</td>\n",
       "      <td>₹50 OFF</td>\n",
       "      <td>4.3</td>\n",
       "      <td>₹100 for one\\n29 min</td>\n",
       "      <td>2262.0</td>\n",
       "      <td>Mithai, Street Food</td>\n",
       "      <td>Baner</td>\n",
       "    </tr>\n",
       "    <tr>\n",
       "      <th>3</th>\n",
       "      <td>Anna Idli</td>\n",
       "      <td>₹50 OFF</td>\n",
       "      <td>4.2</td>\n",
       "      <td>₹100 for one\\n30 min</td>\n",
       "      <td>21800.0</td>\n",
       "      <td>South Indian, Beverages</td>\n",
       "      <td>Baner</td>\n",
       "    </tr>\n",
       "    <tr>\n",
       "      <th>4</th>\n",
       "      <td>Dadu's Sweet Emporio</td>\n",
       "      <td>₹50 OFF</td>\n",
       "      <td>4.3</td>\n",
       "      <td>₹150 for one\\n21 min</td>\n",
       "      <td>4504.0</td>\n",
       "      <td>Mithai, Street Food, Ice Cream</td>\n",
       "      <td>Baner</td>\n",
       "    </tr>\n",
       "    <tr>\n",
       "      <th>5</th>\n",
       "      <td>7th Heaven</td>\n",
       "      <td>Pro extra 15% OFF</td>\n",
       "      <td>4.2</td>\n",
       "      <td>₹350 for one\\n25 min</td>\n",
       "      <td>3342.0</td>\n",
       "      <td>Bakery, Desserts</td>\n",
       "      <td>Baner</td>\n",
       "    </tr>\n",
       "    <tr>\n",
       "      <th>6</th>\n",
       "      <td>Faasos</td>\n",
       "      <td>Pro extra 10% OFF</td>\n",
       "      <td>4.1</td>\n",
       "      <td>₹200 for one\\n29 min</td>\n",
       "      <td>9822.0</td>\n",
       "      <td>Wraps, North Indian, Biryani, Healthy Food</td>\n",
       "      <td>Baner</td>\n",
       "    </tr>\n",
       "    <tr>\n",
       "      <th>7</th>\n",
       "      <td>Pizza Hut</td>\n",
       "      <td>₹50 OFF</td>\n",
       "      <td>3.6</td>\n",
       "      <td>₹200 for one\\n34 min</td>\n",
       "      <td>3283.0</td>\n",
       "      <td>Pizza, Fast Food, Italian, Beverages</td>\n",
       "      <td>Baner</td>\n",
       "    </tr>\n",
       "    <tr>\n",
       "      <th>8</th>\n",
       "      <td>Ovenstory Pizza</td>\n",
       "      <td>Pro extra 10% OFF</td>\n",
       "      <td>4.3</td>\n",
       "      <td>₹300 for one\\n30 min</td>\n",
       "      <td>3864.0</td>\n",
       "      <td>Pizza, Italian</td>\n",
       "      <td>Baner</td>\n",
       "    </tr>\n",
       "    <tr>\n",
       "      <th>9</th>\n",
       "      <td>Wadeshwar</td>\n",
       "      <td>₹50 OFF</td>\n",
       "      <td>4.2</td>\n",
       "      <td>₹100 for one\\n30 min</td>\n",
       "      <td>1157.0</td>\n",
       "      <td>South Indian, Sandwich, Fast Food, Maharashtri...</td>\n",
       "      <td>Baner</td>\n",
       "    </tr>\n",
       "  </tbody>\n",
       "</table>\n",
       "</div>"
      ],
      "text/plain": [
       "                   Name                off  ratings         price_for_one  \\\n",
       "0            McDonald's            ₹50 OFF      4.1  ₹150 for one\\n30 min   \n",
       "1            Nawab Asia            ₹50 OFF      4.1  ₹350 for one\\n30 min   \n",
       "2                Mithas            ₹50 OFF      4.3  ₹100 for one\\n29 min   \n",
       "3             Anna Idli            ₹50 OFF      4.2  ₹100 for one\\n30 min   \n",
       "4  Dadu's Sweet Emporio            ₹50 OFF      4.3  ₹150 for one\\n21 min   \n",
       "5            7th Heaven  Pro extra 15% OFF      4.2  ₹350 for one\\n25 min   \n",
       "6                Faasos  Pro extra 10% OFF      4.1  ₹200 for one\\n29 min   \n",
       "7             Pizza Hut            ₹50 OFF      3.6  ₹200 for one\\n34 min   \n",
       "8       Ovenstory Pizza  Pro extra 10% OFF      4.3  ₹300 for one\\n30 min   \n",
       "9             Wadeshwar            ₹50 OFF      4.2  ₹100 for one\\n30 min   \n",
       "\n",
       "   delivery_reviews                                            cuisine  \\\n",
       "0            9810.0                       Burger, Fast Food, Beverages   \n",
       "1            3054.0  North Indian, Chinese, Mughlai, Biryani, Desse...   \n",
       "2            2262.0                                Mithai, Street Food   \n",
       "3           21800.0                            South Indian, Beverages   \n",
       "4            4504.0                     Mithai, Street Food, Ice Cream   \n",
       "5            3342.0                                   Bakery, Desserts   \n",
       "6            9822.0         Wraps, North Indian, Biryani, Healthy Food   \n",
       "7            3283.0               Pizza, Fast Food, Italian, Beverages   \n",
       "8            3864.0                                     Pizza, Italian   \n",
       "9            1157.0  South Indian, Sandwich, Fast Food, Maharashtri...   \n",
       "\n",
       "  locality  \n",
       "0    Baner  \n",
       "1    Baner  \n",
       "2    Baner  \n",
       "3    Baner  \n",
       "4    Baner  \n",
       "5    Baner  \n",
       "6    Baner  \n",
       "7    Baner  \n",
       "8    Baner  \n",
       "9    Baner  "
      ]
     },
     "execution_count": 27,
     "metadata": {},
     "output_type": "execute_result"
    }
   ],
   "source": [
    "data_rat.head(10)"
   ]
  },
  {
   "cell_type": "code",
   "execution_count": 28,
   "metadata": {},
   "outputs": [
    {
     "name": "stdout",
     "output_type": "stream",
     "text": [
      "<class 'pandas.core.frame.DataFrame'>\n",
      "RangeIndex: 2735 entries, 0 to 2734\n",
      "Data columns (total 7 columns):\n",
      " #   Column            Non-Null Count  Dtype  \n",
      "---  ------            --------------  -----  \n",
      " 0   Name              2735 non-null   object \n",
      " 1   off               2335 non-null   object \n",
      " 2   ratings           2735 non-null   float64\n",
      " 3   price_for_one     2539 non-null   object \n",
      " 4   delivery_reviews  2735 non-null   float64\n",
      " 5   cuisine           1997 non-null   object \n",
      " 6   locality          2735 non-null   object \n",
      "dtypes: float64(2), object(5)\n",
      "memory usage: 149.7+ KB\n"
     ]
    }
   ],
   "source": [
    "data_rat.info()"
   ]
  },
  {
   "cell_type": "code",
   "execution_count": 29,
   "metadata": {
    "colab": {
     "base_uri": "https://localhost:8080/"
    },
    "id": "bvPbuS9oVQZI",
    "outputId": "f0c7143c-e7c4-4299-8831-99a5a096a9a0"
   },
   "outputs": [
    {
     "data": {
      "text/plain": [
       "Baner        823\n",
       "wakad        738\n",
       "Bavdhan      597\n",
       "Hinjawadi    577\n",
       "Name: locality, dtype: int64"
      ]
     },
     "execution_count": 29,
     "metadata": {},
     "output_type": "execute_result"
    }
   ],
   "source": [
    "data_rat['locality'].value_counts(sort=True)"
   ]
  },
  {
   "cell_type": "code",
   "execution_count": 30,
   "metadata": {},
   "outputs": [
    {
     "data": {
      "text/plain": [
       "3.9    761\n",
       "4.0    266\n",
       "3.8    261\n",
       "3.7    232\n",
       "4.1    227\n",
       "4.2    202\n",
       "3.6    155\n",
       "3.5    154\n",
       "4.3    105\n",
       "3.3     84\n",
       "3.4     83\n",
       "3.2     42\n",
       "4.4     40\n",
       "3.0     33\n",
       "3.1     25\n",
       "4.5     23\n",
       "2.8     16\n",
       "2.9     15\n",
       "2.7      4\n",
       "2.6      3\n",
       "4.7      2\n",
       "2.4      1\n",
       "4.8      1\n",
       "Name: ratings, dtype: int64"
      ]
     },
     "execution_count": 30,
     "metadata": {},
     "output_type": "execute_result"
    }
   ],
   "source": [
    "data_rat['ratings'].value_counts(sort=True)"
   ]
  },
  {
   "cell_type": "code",
   "execution_count": 77,
   "metadata": {
    "colab": {
     "base_uri": "https://localhost:8080/",
     "height": 382
    },
    "id": "yeX59W_rXGAO",
    "outputId": "7f374c48-1a85-4b39-9c2c-06178e406e73"
   },
   "outputs": [
    {
     "data": {
      "image/png": "[encoded data removed]",
      "text/plain": [
       "<Figure size 432x288 with 1 Axes>"
      ]
     },
     "metadata": {},
     "output_type": "display_data"
    }
   ],
   "source": [
    "labels = 'Baner', 'Bavdhan', 'Hinjawadi', 'Wakad'\n",
    "sections = [823, 597, 577,738]\n",
    "colors = ['g', 'y', 'b', 'r']\n",
    "fig, ax = plt.subplots()\n",
    "ax.pie(sections, labels=labels, colors=colors,\n",
    "        startangle=90,\n",
    "        radius = 2,\n",
    "        explode = (0.2, 0, 0.1 ,0),\n",
    "        autopct = '%1.1f%%')\n",
    "plt.rcParams['font.size']=20\n",
    "plt.show()"
   ]
  },
  {
   "cell_type": "code",
   "execution_count": 32,
   "metadata": {
    "colab": {
     "base_uri": "https://localhost:8080/",
     "height": 460
    },
    "id": "Dok6i7C8cvSC",
    "outputId": "48c2ae92-a62a-4c29-bf11-d83fe1004a63"
   },
   "outputs": [
    {
     "data": {
      "text/plain": [
       "Text(0, 0.5, 'No of Resturants')"
      ]
     },
     "execution_count": 32,
     "metadata": {},
     "output_type": "execute_result"
    },
    {
     "data": {
      "image/png": "[encoded data removed]",
      "text/plain": [
       "<Figure size 720x504 with 1 Axes>"
      ]
     },
     "metadata": {
      "needs_background": "light"
     },
     "output_type": "display_data"
    }
   ],
   "source": [
    "plt.figure(figsize=(10,7))\n",
    "rating= data_rat['ratings'].value_counts()\n",
    "\n",
    "sns.barplot(x=rating.index,y=rating)\n",
    "plt.xlabel(\"Rating\")\n",
    "plt.ylabel(\"No of Resturants\")"
   ]
  },
  {
   "cell_type": "markdown",
   "metadata": {},
   "source": [
    "## Describe this data set in term of ratings"
   ]
  },
  {
   "cell_type": "code",
   "execution_count": 33,
   "metadata": {},
   "outputs": [],
   "source": [
    "above_four = data_rat.loc[(data_rat.ratings>4.0)]\n",
    "above_four.reset_index(inplace=True, drop=True)\n",
    "\n",
    "above_three = data_rat.loc[(data_rat.ratings>3.0)&(data_rat.ratings<4.0)]\n",
    "above_three.reset_index(inplace=True, drop=True)\n",
    "\n",
    "above_two = data_rat.loc[(data_rat.ratings>2.0)&(data_rat.ratings<3.0)]\n",
    "above_two.reset_index(inplace=True, drop=True)\n"
   ]
  },
  {
   "cell_type": "code",
   "execution_count": 34,
   "metadata": {},
   "outputs": [
    {
     "data": {
      "text/plain": [
       "<seaborn.axisgrid.JointGrid at 0x2023320aa00>"
      ]
     },
     "execution_count": 34,
     "metadata": {},
     "output_type": "execute_result"
    },
    {
     "data": {
      "image/png": "[encoded data removed]",
      "text/plain": [
       "<Figure size 432x432 with 3 Axes>"
      ]
     },
     "metadata": {
      "needs_background": "light"
     },
     "output_type": "display_data"
    }
   ],
   "source": [
    "sns.jointplot(x = \"locality\", y = \"ratings\", data = data_rat, color=\"purple\")"
   ]
  },
  {
   "cell_type": "code",
   "execution_count": 35,
   "metadata": {
    "scrolled": true
   },
   "outputs": [
    {
     "data": {
      "text/plain": [
       "<seaborn.axisgrid.JointGrid at 0x202332c7af0>"
      ]
     },
     "execution_count": 35,
     "metadata": {},
     "output_type": "execute_result"
    },
    {
     "data": {
      "image/png": "[encoded data removed]",
      "text/plain": [
       "<Figure size 432x432 with 3 Axes>"
      ]
     },
     "metadata": {
      "needs_background": "light"
     },
     "output_type": "display_data"
    }
   ],
   "source": [
    "sns.jointplot(x = \"locality\", y = \"delivery_reviews\", data = data_rat, color=\"blue\")"
   ]
  },
  {
   "cell_type": "code",
   "execution_count": 36,
   "metadata": {},
   "outputs": [
    {
     "data": {
      "text/plain": [
       "<seaborn.axisgrid.PairGrid at 0x202332ba370>"
      ]
     },
     "execution_count": 36,
     "metadata": {},
     "output_type": "execute_result"
    },
    {
     "data": {
      "image/png": "[encoded data removed]",
      "text/plain": [
       "<Figure size 661.25x576 with 6 Axes>"
      ]
     },
     "metadata": {
      "needs_background": "light"
     },
     "output_type": "display_data"
    }
   ],
   "source": [
    "\n",
    "sns.pairplot(data_rat, hue = \"locality\", palette=\"Set2\", height=4)\n"
   ]
  },
  {
   "cell_type": "code",
   "execution_count": 55,
   "metadata": {},
   "outputs": [],
   "source": [
    "df =data_rat.groupby(['locality'])"
   ]
  },
  {
   "cell_type": "code",
   "execution_count": 64,
   "metadata": {},
   "outputs": [
    {
     "data": {
      "text/plain": [
       "(locality\n",
       " Baner        AxesSubplot(0.125,0.125;0.775x0.755)\n",
       " Bavdhan      AxesSubplot(0.125,0.125;0.775x0.755)\n",
       " Hinjawadi    AxesSubplot(0.125,0.125;0.775x0.755)\n",
       " wakad        AxesSubplot(0.125,0.125;0.775x0.755)\n",
       " dtype: object,\n",
       " <Figure size 1080x288 with 0 Axes>)"
      ]
     },
     "execution_count": 64,
     "metadata": {},
     "output_type": "execute_result"
    },
    {
     "data": {
      "image/png": "[encoded data removed]",
      "text/plain": [
       "<Figure size 432x288 with 1 Axes>"
      ]
     },
     "metadata": {
      "needs_background": "light"
     },
     "output_type": "display_data"
    },
    {
     "data": {
      "image/png": "[encoded data removed]",
      "text/plain": [
       "<Figure size 432x288 with 1 Axes>"
      ]
     },
     "metadata": {
      "needs_background": "light"
     },
     "output_type": "display_data"
    },
    {
     "data": {
      "image/png": "[encoded data removed]",
      "text/plain": [
       "<Figure size 432x288 with 1 Axes>"
      ]
     },
     "metadata": {
      "needs_background": "light"
     },
     "output_type": "display_data"
    },
    {
     "data": {
      "image/png": "[encoded data removed]",
      "text/plain": [
       "<Figure size 432x288 with 1 Axes>"
      ]
     },
     "metadata": {
      "needs_background": "light"
     },
     "output_type": "display_data"
    },
    {
     "data": {
      "text/plain": [
       "<Figure size 1080x288 with 0 Axes>"
      ]
     },
     "metadata": {},
     "output_type": "display_data"
    }
   ],
   "source": [
    "df.plot.line(x='locality', y='ratings'), plt.figure(figsize=(15,4))"
   ]
  },
  {
   "cell_type": "code",
   "execution_count": 73,
   "metadata": {},
   "outputs": [
    {
     "data": {
      "image/png": "[encoded data removed]",
      "text/plain": [
       "<Figure size 1440x720 with 1 Axes>"
      ]
     },
     "metadata": {
      "needs_background": "light"
     },
     "output_type": "display_data"
    }
   ],
   "source": [
    "fig= plt.gcf()\n",
    "sns.countplot(data = data_rat, hue='locality', x='ratings')\n",
    "plt.title('Count plot of rate of each Restaurants')\n",
    "fig.set_size_inches(20,10)\n",
    "plt.show()"
   ]
  },
  {
   "cell_type": "code",
   "execution_count": null,
   "metadata": {},
   "outputs": [],
   "source": []
  }
 ],
 "metadata": {
  "colab": {
   "name": "2nd Zomato data.ipynb",
   "provenance": []
  },
  "kernelspec": {
   "display_name": "Python 3",
   "language": "python",
   "name": "python3"
  },
  "language_info": {
   "codemirror_mode": {
    "name": "ipython",
    "version": 3
   },
   "file_extension": ".py",
   "mimetype": "text/x-python",
   "name": "python",
   "nbconvert_exporter": "python",
   "pygments_lexer": "ipython3",
   "version": "3.8.5"
  }
 },
 "nbformat": 4,
 "nbformat_minor": 1
}
